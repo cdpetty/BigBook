{
 "cells": [
  {
   "cell_type": "code",
   "execution_count": 5,
   "metadata": {
    "collapsed": false
   },
   "outputs": [
    {
     "data": {
      "text/html": [
       "<div>\n",
       "<table border=\"1\" class=\"dataframe\">\n",
       "  <thead>\n",
       "    <tr style=\"text-align: right;\">\n",
       "      <th></th>\n",
       "      <th>Link</th>\n",
       "      <th>URL</th>\n",
       "    </tr>\n",
       "  </thead>\n",
       "  <tbody>\n",
       "    <tr>\n",
       "      <th>0</th>\n",
       "      <td>Luke Bryan - Roller Coaster</td>\n",
       "      <td>/watch?v=AxVKTwAkv1k&amp;list=PLloWh84LsMNDqBj61Kk...</td>\n",
       "    </tr>\n",
       "    <tr>\n",
       "      <th>1</th>\n",
       "      <td>Dierks Bentley - Drunk On A Plane</td>\n",
       "      <td>/watch?v=QrM39m22jH4&amp;list=PLloWh84LsMNDqBj61Kk...</td>\n",
       "    </tr>\n",
       "    <tr>\n",
       "      <th>2</th>\n",
       "      <td>Thomas Rhett - Get Me Some Of That</td>\n",
       "      <td>/watch?v=gq2ZJ418ad8&amp;list=PLloWh84LsMNDqBj61Kk...</td>\n",
       "    </tr>\n",
       "    <tr>\n",
       "      <th>3</th>\n",
       "      <td>David Nail - Whatever She's Got</td>\n",
       "      <td>/watch?v=o1C3mVUkAt8&amp;list=PLloWh84LsMNDqBj61Kk...</td>\n",
       "    </tr>\n",
       "    <tr>\n",
       "      <th>4</th>\n",
       "      <td>Joe Nichols - Yeah</td>\n",
       "      <td>/watch?v=x5XvT8NMI8g&amp;list=PLloWh84LsMNDqBj61Kk...</td>\n",
       "    </tr>\n",
       "  </tbody>\n",
       "</table>\n",
       "</div>"
      ],
      "text/plain": [
       "                                             Link  \\\n",
       "0                Luke Bryan - Roller Coaster        \n",
       "1          Dierks Bentley - Drunk On A Plane        \n",
       "2         Thomas Rhett - Get Me Some Of That        \n",
       "3            David Nail - Whatever She's Got        \n",
       "4                         Joe Nichols - Yeah        \n",
       "\n",
       "                                                 URL  \n",
       "0  /watch?v=AxVKTwAkv1k&list=PLloWh84LsMNDqBj61Kk...  \n",
       "1  /watch?v=QrM39m22jH4&list=PLloWh84LsMNDqBj61Kk...  \n",
       "2  /watch?v=gq2ZJ418ad8&list=PLloWh84LsMNDqBj61Kk...  \n",
       "3  /watch?v=o1C3mVUkAt8&list=PLloWh84LsMNDqBj61Kk...  \n",
       "4  /watch?v=x5XvT8NMI8g&list=PLloWh84LsMNDqBj61Kk...  "
      ]
     },
     "execution_count": 5,
     "metadata": {},
     "output_type": "execute_result"
    }
   ],
   "source": [
    "import pandas as pd\n",
    "from os import path\n",
    "\n",
    "# Edit path if need be (shouldn't need to b/c we all have the same folder structure)\n",
    "CSV_PATH = '../VidScrape/'\n",
    "GENRES = ['country', 'edm', 'pop', 'rap', 'rock']\n",
    "\n",
    "# Containers for the data frames\n",
    "genre_dfs = {}\n",
    "all_genres = None\n",
    "\n",
    "\n",
    "# Read in the 5 genre's of CV's\n",
    "for genre in GENRES:\n",
    "    genre_csv_path = path.join(CSV_PATH, genre) + '.csv'\n",
    "    genre_dfs[genre] = pd.read_csv(genre_csv_path)\n",
    "\n",
    "all_genres = pd.concat(genre_dfs.values())\n",
    "all_genres.head()\n",
    "\n",
    "# genre_dfs is now a dictionary that contains the 5 different data frames\n",
    "# all_genres is a dataframe that contains all of the data"
   ]
  },
  {
   "cell_type": "code",
   "execution_count": null,
   "metadata": {
    "collapsed": true
   },
   "outputs": [],
   "source": [
    "# Begin analysis here"
   ]
  }
 ],
 "metadata": {
  "anaconda-cloud": {},
  "kernelspec": {
   "display_name": "Python [cs489]",
   "language": "python",
   "name": "Python [cs489]"
  },
  "language_info": {
   "codemirror_mode": {
    "name": "ipython",
    "version": 2
   },
   "file_extension": ".py",
   "mimetype": "text/x-python",
   "name": "python",
   "nbconvert_exporter": "python",
   "pygments_lexer": "ipython2",
   "version": "2.7.12"
  }
 },
 "nbformat": 4,
 "nbformat_minor": 0
}
