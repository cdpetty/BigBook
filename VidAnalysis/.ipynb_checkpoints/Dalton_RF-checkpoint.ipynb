{
 "cells": [
  {
   "cell_type": "markdown",
   "metadata": {},
   "source": [
    "### Data Collection"
   ]
  },
  {
   "cell_type": "code",
   "execution_count": 1,
   "metadata": {
    "collapsed": false
   },
   "outputs": [
    {
     "name": "stderr",
     "output_type": "stream",
     "text": [
      "/Users/wesm/anaconda/envs/openCV/lib/python2.7/site-packages/sklearn/utils/fixes.py:200: UserWarning: Using `sort` instead of partition.Upgrade numpy to 1.8 for better performace on large numberof clusters\n",
      "  warnings.warn('Using `sort` instead of partition.'\n"
     ]
    },
    {
     "data": {
      "text/html": [
       "<div style=\"max-height:1000px;max-width:1500px;overflow:auto;\">\n",
       "<table border=\"1\" class=\"dataframe\">\n",
       "  <thead>\n",
       "    <tr style=\"text-align: right;\">\n",
       "      <th></th>\n",
       "      <th>filename</th>\n",
       "      <th>author</th>\n",
       "      <th>description</th>\n",
       "      <th>viewcount</th>\n",
       "      <th>rating</th>\n",
       "      <th>likes</th>\n",
       "      <th>dislikes</th>\n",
       "      <th>duration</th>\n",
       "      <th>length</th>\n",
       "      <th>keywords</th>\n",
       "      <th>published</th>\n",
       "      <th>colors_1_red</th>\n",
       "      <th>colors_1_blue</th>\n",
       "      <th>colors_1_green</th>\n",
       "      <th>colors_2_red</th>\n",
       "      <th>colors_2_blue</th>\n",
       "      <th>colors_2_green</th>\n",
       "      <th>colors_3_red</th>\n",
       "      <th>colors_3_blue</th>\n",
       "      <th>colors_3_green</th>\n",
       "      <th></th>\n",
       "    </tr>\n",
       "  </thead>\n",
       "  <tbody>\n",
       "    <tr>\n",
       "      <th>0</th>\n",
       "      <td>        Luke Bryan - Roller Coaster.mp4</td>\n",
       "      <td>     LukeBryanVEVO</td>\n",
       "      <td> Luke Bryan - Crash My Party\\nPurchase now on i...</td>\n",
       "      <td> 28948653</td>\n",
       "      <td> 4.840108</td>\n",
       "      <td> 127866</td>\n",
       "      <td> 5324</td>\n",
       "      <td> 00:04:23</td>\n",
       "      <td> 263</td>\n",
       "      <td> [Luke, Bryan, Roller, Coaster, Capitol, Record...</td>\n",
       "      <td> 2014-06-21 11:00:03</td>\n",
       "      <td> 250</td>\n",
       "      <td> 240</td>\n",
       "      <td> 230</td>\n",
       "      <td> 80</td>\n",
       "      <td> 70</td>\n",
       "      <td> 50</td>\n",
       "      <td> 210</td>\n",
       "      <td> 200</td>\n",
       "      <td> 190</td>\n",
       "      <td>...</td>\n",
       "    </tr>\n",
       "    <tr>\n",
       "      <th>1</th>\n",
       "      <td>  Dierks Bentley - Drunk On A Plane.mp4</td>\n",
       "      <td> DierksBentleyVEVO</td>\n",
       "      <td> Purchase Dierks Bentley’s latest music: http:/...</td>\n",
       "      <td> 41548786</td>\n",
       "      <td> 4.763639</td>\n",
       "      <td> 140682</td>\n",
       "      <td> 8835</td>\n",
       "      <td> 00:04:51</td>\n",
       "      <td> 291</td>\n",
       "      <td> [Dierks, Bentley, Drunk, On, Plane, Capitol, R...</td>\n",
       "      <td> 2014-05-13 20:16:23</td>\n",
       "      <td>  10</td>\n",
       "      <td>  20</td>\n",
       "      <td>  30</td>\n",
       "      <td>  0</td>\n",
       "      <td> 10</td>\n",
       "      <td> 20</td>\n",
       "      <td>  20</td>\n",
       "      <td>  30</td>\n",
       "      <td>  40</td>\n",
       "      <td>...</td>\n",
       "    </tr>\n",
       "    <tr>\n",
       "      <th>2</th>\n",
       "      <td> Thomas Rhett - Get Me Some Of That.mp4</td>\n",
       "      <td>   ThomasRhettVEVO</td>\n",
       "      <td> Music video by Thomas Rhett performing Get Me ...</td>\n",
       "      <td> 43868160</td>\n",
       "      <td> 4.826069</td>\n",
       "      <td> 128488</td>\n",
       "      <td> 5841</td>\n",
       "      <td> 00:03:13</td>\n",
       "      <td> 193</td>\n",
       "      <td> [Thomas, Rhett, Get, Me, Some, Of, That, The, ...</td>\n",
       "      <td> 2013-12-10 08:00:01</td>\n",
       "      <td>  50</td>\n",
       "      <td>  60</td>\n",
       "      <td>  40</td>\n",
       "      <td> 60</td>\n",
       "      <td> 70</td>\n",
       "      <td> 50</td>\n",
       "      <td>  70</td>\n",
       "      <td>  80</td>\n",
       "      <td>  60</td>\n",
       "      <td>...</td>\n",
       "    </tr>\n",
       "    <tr>\n",
       "      <th>3</th>\n",
       "      <td>    David Nail - Whatever She's Got.mp4</td>\n",
       "      <td>     DavidNailVEVO</td>\n",
       "      <td> Purchase David Nail’s latest music: http://umg...</td>\n",
       "      <td> 48648247</td>\n",
       "      <td> 4.826632</td>\n",
       "      <td> 141108</td>\n",
       "      <td> 6393</td>\n",
       "      <td> 00:04:01</td>\n",
       "      <td> 241</td>\n",
       "      <td> [David, Nail, Whatever, She's, Got, MCA, Nashv...</td>\n",
       "      <td> 2013-07-16 07:00:15</td>\n",
       "      <td>  30</td>\n",
       "      <td>  20</td>\n",
       "      <td>  10</td>\n",
       "      <td> 40</td>\n",
       "      <td> 30</td>\n",
       "      <td> 20</td>\n",
       "      <td>  50</td>\n",
       "      <td>  40</td>\n",
       "      <td>  30</td>\n",
       "      <td>...</td>\n",
       "    </tr>\n",
       "    <tr>\n",
       "      <th>4</th>\n",
       "      <td>                 Joe Nichols - Yeah.mp4</td>\n",
       "      <td>    JoeNicholsVEVO</td>\n",
       "      <td> Joe Nichols - Yeah\\n“Yeah” from Joe Nichol’s C...</td>\n",
       "      <td> 11397694</td>\n",
       "      <td> 4.815725</td>\n",
       "      <td>  33255</td>\n",
       "      <td> 1606</td>\n",
       "      <td> 00:03:52</td>\n",
       "      <td> 232</td>\n",
       "      <td>     [Joe Nichols, Red Bow Records, Country, Yeah]</td>\n",
       "      <td> 2014-05-27 07:00:01</td>\n",
       "      <td> 250</td>\n",
       "      <td> 250</td>\n",
       "      <td> 230</td>\n",
       "      <td> 20</td>\n",
       "      <td> 30</td>\n",
       "      <td> 40</td>\n",
       "      <td>  10</td>\n",
       "      <td>  20</td>\n",
       "      <td>  30</td>\n",
       "      <td>...</td>\n",
       "    </tr>\n",
       "  </tbody>\n",
       "</table>\n",
       "<p>5 rows × 42 columns</p>\n",
       "</div>"
      ],
      "text/plain": [
       "                                 filename             author  \\\n",
       "0         Luke Bryan - Roller Coaster.mp4      LukeBryanVEVO   \n",
       "1   Dierks Bentley - Drunk On A Plane.mp4  DierksBentleyVEVO   \n",
       "2  Thomas Rhett - Get Me Some Of That.mp4    ThomasRhettVEVO   \n",
       "3     David Nail - Whatever She's Got.mp4      DavidNailVEVO   \n",
       "4                  Joe Nichols - Yeah.mp4     JoeNicholsVEVO   \n",
       "\n",
       "                                         description  viewcount    rating  \\\n",
       "0  Luke Bryan - Crash My Party\\nPurchase now on i...   28948653  4.840108   \n",
       "1  Purchase Dierks Bentley’s latest music: http:/...   41548786  4.763639   \n",
       "2  Music video by Thomas Rhett performing Get Me ...   43868160  4.826069   \n",
       "3  Purchase David Nail’s latest music: http://umg...   48648247  4.826632   \n",
       "4  Joe Nichols - Yeah\\n“Yeah” from Joe Nichol’s C...   11397694  4.815725   \n",
       "\n",
       "    likes  dislikes  duration  length  \\\n",
       "0  127866      5324  00:04:23     263   \n",
       "1  140682      8835  00:04:51     291   \n",
       "2  128488      5841  00:03:13     193   \n",
       "3  141108      6393  00:04:01     241   \n",
       "4   33255      1606  00:03:52     232   \n",
       "\n",
       "                                            keywords            published  \\\n",
       "0  [Luke, Bryan, Roller, Coaster, Capitol, Record...  2014-06-21 11:00:03   \n",
       "1  [Dierks, Bentley, Drunk, On, Plane, Capitol, R...  2014-05-13 20:16:23   \n",
       "2  [Thomas, Rhett, Get, Me, Some, Of, That, The, ...  2013-12-10 08:00:01   \n",
       "3  [David, Nail, Whatever, She's, Got, MCA, Nashv...  2013-07-16 07:00:15   \n",
       "4      [Joe Nichols, Red Bow Records, Country, Yeah]  2014-05-27 07:00:01   \n",
       "\n",
       "   colors_1_red  colors_1_blue  colors_1_green  colors_2_red  colors_2_blue  \\\n",
       "0           250            240             230            80             70   \n",
       "1            10             20              30             0             10   \n",
       "2            50             60              40            60             70   \n",
       "3            30             20              10            40             30   \n",
       "4           250            250             230            20             30   \n",
       "\n",
       "   colors_2_green  colors_3_red  colors_3_blue  colors_3_green      \n",
       "0              50           210            200             190 ...  \n",
       "1              20            20             30              40 ...  \n",
       "2              50            70             80              60 ...  \n",
       "3              20            50             40              30 ...  \n",
       "4              40            10             20              30 ...  \n",
       "\n",
       "[5 rows x 42 columns]"
      ]
     },
     "execution_count": 1,
     "metadata": {},
     "output_type": "execute_result"
    }
   ],
   "source": [
    "import pandas as pd\n",
    "from os import path\n",
    "from sklearn.ensemble import RandomForestClassifier\n",
    "import numpy as np\n",
    "from sklearn.ensemble import ExtraTreesClassifier\n",
    "import sklearn\n",
    "\n",
    "# Edit path if need be (shouldn't need to b/c we all have the same folder structure)\n",
    "CSV_PATH_1 = '../Videos/all_data'\n",
    "CSV_PATH_2 = '../Videos2/all_data2'\n",
    "FILE_EXTENSION = '_all.csv'\n",
    "GENRES = ['country', 'edm', 'pop', 'rap', 'rock']\n",
    "\n",
    "# Containers for the data frames\n",
    "genre_dfs = {}\n",
    "all_genres = None\n",
    "\n",
    "# Read in the 5 genre's of CV's\n",
    "for genre in GENRES:\n",
    "    genre_csv_path_1 = path.join(CSV_PATH_1, genre) + FILE_EXTENSION\n",
    "    genre_csv_path_2 = path.join(CSV_PATH_2, genre) + FILE_EXTENSION\n",
    "    df_1 = pd.read_csv(genre_csv_path_1)\n",
    "    df_2 = pd.read_csv(genre_csv_path_2)\n",
    "    df_1 = df_1.drop('Unnamed: 0',1)\n",
    "    df_2 = df_2.drop('Unnamed: 0',1)\n",
    "    df_combined = pd.concat([df_1,df_2],ignore_index=True)\n",
    "    genre_dfs[genre] = df_combined\n",
    "\n",
    "all_genres = pd.concat(genre_dfs.values())\n",
    "all_genres.head()\n",
    "\n",
    "# genre_dfs is now a dictionary that contains the 5 different data frames\n",
    "# all_genres is a dataframe that contains all of the data"
   ]
  },
  {
   "cell_type": "markdown",
   "metadata": {},
   "source": [
    "### Ordinal Genres\n",
    "Below, we make the genres ordinal to fit in the random forest classifiers. We add a new column to our dataframe to do so, write a function to populate it, and run it across the dataframe."
   ]
  },
  {
   "cell_type": "code",
   "execution_count": 2,
   "metadata": {
    "collapsed": false
   },
   "outputs": [],
   "source": [
    "def genre_to_ordinal(genre_in):\n",
    "    if(genre_in == \"country\"):\n",
    "        return 0\n",
    "    elif(genre_in == \"pop\"):\n",
    "        return 1\n",
    "    elif(genre_in == \"rock\"):\n",
    "        return 2\n",
    "    elif(genre_in == \"edm\"):\n",
    "        return 3\n",
    "    elif(genre_in == \"rap\"):\n",
    "        return 4\n",
    "    else:\n",
    "        return genre_in\n",
    "    \n",
    "all_genres['genre_ordinal'] = all_genres.genre.apply(genre_to_ordinal)"
   ]
  },
  {
   "cell_type": "markdown",
   "metadata": {},
   "source": [
    "We add in some boolean genre classifiers to make our analysis more fine-grained. Rather than saying \"we predict this video is country with 50% confidence\", we could say \"we predict this video is not edm with 90% confidence\" and so on."
   ]
  },
  {
   "cell_type": "code",
   "execution_count": 3,
   "metadata": {
    "collapsed": true
   },
   "outputs": [],
   "source": [
    "# Adding is_country flag\n",
    "def is_country(genre_in):\n",
    "    if(genre_in == \"country\"):\n",
    "        return 1\n",
    "    else:\n",
    "        return 0\n",
    "    \n",
    "all_genres['is_country'] = all_genres.genre.apply(is_country)\n",
    "\n",
    "# Adding is_country flag\n",
    "def is_rock(genre_in):\n",
    "    if(genre_in == \"rock\"):\n",
    "        return 1\n",
    "    else:\n",
    "        return 0\n",
    "    \n",
    "all_genres['is_rock'] = all_genres.genre.apply(is_rock)\n",
    "\n",
    "# Adding is_edm flag\n",
    "def is_edm(genre_in):\n",
    "    if(genre_in == \"edm\"):\n",
    "        return 1\n",
    "    else:\n",
    "        return 0\n",
    "    \n",
    "all_genres['is_edm'] = all_genres.genre.apply(is_edm)\n",
    "\n",
    "# Adding is_rap flag\n",
    "def is_rap(genre_in):\n",
    "    if(genre_in == \"rap\"):\n",
    "        return 1\n",
    "    else:\n",
    "        return 0\n",
    "    \n",
    "all_genres['is_rap'] = all_genres.genre.apply(is_rap)\n",
    "\n",
    "# Adding is_country flag\n",
    "def is_pop(genre_in):\n",
    "    if(genre_in == \"pop\"):\n",
    "        return 1\n",
    "    else:\n",
    "        return 0\n",
    "    \n",
    "all_genres['is_pop'] = all_genres.genre.apply(is_pop)"
   ]
  },
  {
   "cell_type": "markdown",
   "metadata": {},
   "source": [
    "### Test and Train Sets\n",
    "We create our training and test sets by splitting all_genres by genre, and making 10 of each genre train and 10 test. We aggregate by genre to make our full train and full test sets, each containing 50 records of various genres."
   ]
  },
  {
   "cell_type": "code",
   "execution_count": 4,
   "metadata": {
    "collapsed": false
   },
   "outputs": [
    {
     "name": "stdout",
     "output_type": "stream",
     "text": [
      "Training Records:\t405\n",
      "Test Records:\t\t405\n"
     ]
    }
   ],
   "source": [
    "# Subset all_genres to group by individual genres\n",
    "country_records  = all_genres[all_genres[\"genre\"] == \"country\"]\n",
    "rock_records     = all_genres[all_genres[\"genre\"] == \"rock\"]\n",
    "pop_records      = all_genres[all_genres[\"genre\"] == \"pop\"]\n",
    "edm_records      = all_genres[all_genres[\"genre\"] == \"edm\"]\n",
    "rap_records      = all_genres[all_genres[\"genre\"] == \"rap\"]\n",
    "\n",
    "# From the subsets above, create train and test sets from each\n",
    "country_train = country_records.head(len(country_records) / 2)\n",
    "country_test  = country_records.tail(len(country_records) / 2)\n",
    "rock_train    = rock_records.head(len(rock_records) / 2)\n",
    "rock_test     = rock_records.tail(len(rock_records) / 2)\n",
    "pop_train     = pop_records.head(len(pop_records) / 2)\n",
    "pop_test      = pop_records.tail(len(pop_records) / 2)\n",
    "edm_train     = edm_records.head(len(edm_records) / 2)\n",
    "edm_test      = edm_records.tail(len(edm_records) / 2)\n",
    "rap_train     = rap_records.head(len(rap_records) / 2)\n",
    "rap_test      = rap_records.tail(len(rap_records) / 2)\n",
    "\n",
    "# Create big training and big test set for analysis\n",
    "training_set = pd.concat([country_train,rock_train,pop_train,edm_train,rap_train])\n",
    "test_set     = pd.concat([country_test,rock_test,pop_test,edm_test,rap_test])\n",
    "\n",
    "training_set = training_set.fillna(0)\n",
    "test_set = test_set.fillna(0)\n",
    "\n",
    "print \"Training Records:\\t\" , len(training_set)\n",
    "print \"Test Records:\\t\\t\" , len(test_set)\n",
    "# training_set.head()"
   ]
  },
  {
   "cell_type": "markdown",
   "metadata": {
    "collapsed": false
   },
   "source": [
    "### Generating Random Forest - Viewer Statistics\n",
    "We start generating our random forests, and output a relative accuracy and a confusion matrix. In this first one, we simply factor in non-color variables (rating, likes, dislikes, length and viewcount), and run it across all records to predict an ordinal genre value."
   ]
  },
  {
   "cell_type": "code",
   "execution_count": 5,
   "metadata": {
    "collapsed": false
   },
   "outputs": [
    {
     "name": "stdout",
     "output_type": "stream",
     "text": [
      "0.422222222222\n"
     ]
    },
    {
     "data": {
      "text/html": [
       "<div style=\"max-height:1000px;max-width:1500px;overflow:auto;\">\n",
       "<table border=\"1\" class=\"dataframe\">\n",
       "  <thead>\n",
       "    <tr style=\"text-align: right;\">\n",
       "      <th>Predicted</th>\n",
       "      <th>0</th>\n",
       "      <th>1</th>\n",
       "      <th>2</th>\n",
       "      <th>3</th>\n",
       "      <th>4</th>\n",
       "    </tr>\n",
       "    <tr>\n",
       "      <th>Actual</th>\n",
       "      <th></th>\n",
       "      <th></th>\n",
       "      <th></th>\n",
       "      <th></th>\n",
       "      <th></th>\n",
       "    </tr>\n",
       "  </thead>\n",
       "  <tbody>\n",
       "    <tr>\n",
       "      <th>0</th>\n",
       "      <td> 48</td>\n",
       "      <td>  1</td>\n",
       "      <td>  1</td>\n",
       "      <td> 27</td>\n",
       "      <td>  4</td>\n",
       "    </tr>\n",
       "    <tr>\n",
       "      <th>1</th>\n",
       "      <td>  0</td>\n",
       "      <td> 27</td>\n",
       "      <td> 41</td>\n",
       "      <td>  6</td>\n",
       "      <td>  7</td>\n",
       "    </tr>\n",
       "    <tr>\n",
       "      <th>2</th>\n",
       "      <td> 27</td>\n",
       "      <td>  8</td>\n",
       "      <td>  2</td>\n",
       "      <td> 34</td>\n",
       "      <td>  4</td>\n",
       "    </tr>\n",
       "    <tr>\n",
       "      <th>3</th>\n",
       "      <td>  7</td>\n",
       "      <td> 16</td>\n",
       "      <td> 22</td>\n",
       "      <td> 26</td>\n",
       "      <td> 12</td>\n",
       "    </tr>\n",
       "    <tr>\n",
       "      <th>4</th>\n",
       "      <td>  7</td>\n",
       "      <td> 17</td>\n",
       "      <td>  4</td>\n",
       "      <td>  9</td>\n",
       "      <td> 48</td>\n",
       "    </tr>\n",
       "  </tbody>\n",
       "</table>\n",
       "<p>5 rows × 5 columns</p>\n",
       "</div>"
      ],
      "text/plain": [
       "Predicted   0   1   2   3   4\n",
       "Actual                       \n",
       "0          48   1   1  27   4\n",
       "1           0  27  41   6   7\n",
       "2          27   8   2  34   4\n",
       "3           7  16  22  26  12\n",
       "4           7  17   4   9  48\n",
       "\n",
       "[5 rows x 5 columns]"
      ]
     },
     "execution_count": 5,
     "metadata": {},
     "output_type": "execute_result"
    }
   ],
   "source": [
    "# Predicting based solely on non-color features, using RF\n",
    "clf = RandomForestClassifier(n_estimators=11)\n",
    "meta_data_features = ['rating', 'likes','dislikes','length','viewcount']\n",
    "y, _ = pd.factorize(training_set['genre_ordinal'])\n",
    "clf = clf.fit(training_set[meta_data_features], y)\n",
    "\n",
    "z, _ = pd.factorize(test_set['genre_ordinal'])\n",
    "print clf.score(test_set[meta_data_features],z)\n",
    "pd.crosstab(test_set.genre_ordinal, clf.predict(test_set[meta_data_features]),rownames=[\"Actual\"], colnames=[\"Predicted\"])"
   ]
  },
  {
   "cell_type": "markdown",
   "metadata": {},
   "source": [
    "As shown above, this method yields relatively poor results. This is because there's no distinct clusters being created by our random forest, and simple viewer statistics tell us nothing about what kind of video we're watching. However, we see that country, rap and pop are initially somewhat distinct (diagonal is the highest value), and rock and edm are getting mistaken for one another. Let's see if we can't make something of this."
   ]
  },
  {
   "cell_type": "markdown",
   "metadata": {},
   "source": [
    "### Random Forest - Only Color Statistics\n",
    "Below, we do the same random forest as above, but going strictly off of average frame color for the video.\n",
    "\n",
    "We found the most commonly appearing color in each frame and called it the 'frame mode'. We then took all of the frame modes and found the 10 most common of them. Those became the 'color data' we use to analyze videos."
   ]
  },
  {
   "cell_type": "code",
   "execution_count": 6,
   "metadata": {
    "collapsed": true
   },
   "outputs": [],
   "source": [
    "def gen_new_headers(old_headers):\n",
    "    headers = ['colors_' + str(x+1) + '_' for x in range(10)]\n",
    "    h = []\n",
    "    for x in headers:\n",
    "        h.append(x + 'red')\n",
    "        h.append(x + 'blue')\n",
    "        h.append(x + 'green')\n",
    "    return old_headers + h + ['genre']"
   ]
  },
  {
   "cell_type": "code",
   "execution_count": 7,
   "metadata": {
    "collapsed": false
   },
   "outputs": [
    {
     "name": "stdout",
     "output_type": "stream",
     "text": [
      "0.237037037037\n"
     ]
    },
    {
     "data": {
      "text/html": [
       "<div style=\"max-height:1000px;max-width:1500px;overflow:auto;\">\n",
       "<table border=\"1\" class=\"dataframe\">\n",
       "  <thead>\n",
       "    <tr style=\"text-align: right;\">\n",
       "      <th>Predicted</th>\n",
       "      <th>0</th>\n",
       "      <th>1</th>\n",
       "      <th>2</th>\n",
       "      <th>3</th>\n",
       "      <th>4</th>\n",
       "    </tr>\n",
       "    <tr>\n",
       "      <th>Actual</th>\n",
       "      <th></th>\n",
       "      <th></th>\n",
       "      <th></th>\n",
       "      <th></th>\n",
       "      <th></th>\n",
       "    </tr>\n",
       "  </thead>\n",
       "  <tbody>\n",
       "    <tr>\n",
       "      <th>0</th>\n",
       "      <td> 30</td>\n",
       "      <td> 23</td>\n",
       "      <td>  9</td>\n",
       "      <td> 12</td>\n",
       "      <td>  7</td>\n",
       "    </tr>\n",
       "    <tr>\n",
       "      <th>1</th>\n",
       "      <td> 23</td>\n",
       "      <td> 14</td>\n",
       "      <td> 13</td>\n",
       "      <td> 15</td>\n",
       "      <td> 16</td>\n",
       "    </tr>\n",
       "    <tr>\n",
       "      <th>2</th>\n",
       "      <td> 30</td>\n",
       "      <td> 20</td>\n",
       "      <td>  8</td>\n",
       "      <td> 10</td>\n",
       "      <td>  7</td>\n",
       "    </tr>\n",
       "    <tr>\n",
       "      <th>3</th>\n",
       "      <td> 16</td>\n",
       "      <td> 12</td>\n",
       "      <td> 29</td>\n",
       "      <td> 19</td>\n",
       "      <td>  7</td>\n",
       "    </tr>\n",
       "    <tr>\n",
       "      <th>4</th>\n",
       "      <td> 22</td>\n",
       "      <td> 12</td>\n",
       "      <td> 22</td>\n",
       "      <td> 15</td>\n",
       "      <td> 14</td>\n",
       "    </tr>\n",
       "  </tbody>\n",
       "</table>\n",
       "<p>5 rows × 5 columns</p>\n",
       "</div>"
      ],
      "text/plain": [
       "Predicted   0   1   2   3   4\n",
       "Actual                       \n",
       "0          30  23   9  12   7\n",
       "1          23  14  13  15  16\n",
       "2          30  20   8  10   7\n",
       "3          16  12  29  19   7\n",
       "4          22  12  22  15  14\n",
       "\n",
       "[5 rows x 5 columns]"
      ]
     },
     "execution_count": 7,
     "metadata": {},
     "output_type": "execute_result"
    }
   ],
   "source": [
    "clf = RandomForestClassifier(n_estimators=11)\n",
    "color_features = gen_new_headers([])[:-1]\n",
    "\n",
    "# Predicting based solely on colors\n",
    "y, _ = pd.factorize(training_set['genre_ordinal'])\n",
    "clf = clf.fit(training_set[color_features], y)\n",
    "\n",
    "z, _ = pd.factorize(test_set['genre_ordinal'])\n",
    "print clf.score(test_set[color_features],z)\n",
    "pd.crosstab(test_set.genre_ordinal, clf.predict(test_set[color_features]),rownames=[\"Actual\"], colnames=[\"Predicted\"])"
   ]
  },
  {
   "cell_type": "markdown",
   "metadata": {},
   "source": [
    "This actually yields worse results than just the viewer statistics, because the color of a video by itself does not determine the genre. If rappers only had red in their videos and rockers only had black this might be somewhat accurate, but that's just not the case. But, what if we pair these findings with our initial viewer statistics? "
   ]
  },
  {
   "cell_type": "markdown",
   "metadata": {},
   "source": [
    "### Random Forest - All Features"
   ]
  },
  {
   "cell_type": "code",
   "execution_count": 8,
   "metadata": {
    "collapsed": false
   },
   "outputs": [
    {
     "name": "stdout",
     "output_type": "stream",
     "text": [
      "0.39012345679\n"
     ]
    },
    {
     "data": {
      "text/html": [
       "<div style=\"max-height:1000px;max-width:1500px;overflow:auto;\">\n",
       "<table border=\"1\" class=\"dataframe\">\n",
       "  <thead>\n",
       "    <tr style=\"text-align: right;\">\n",
       "      <th>Predicted</th>\n",
       "      <th>0</th>\n",
       "      <th>1</th>\n",
       "      <th>2</th>\n",
       "      <th>3</th>\n",
       "      <th>4</th>\n",
       "    </tr>\n",
       "    <tr>\n",
       "      <th>Actual</th>\n",
       "      <th></th>\n",
       "      <th></th>\n",
       "      <th></th>\n",
       "      <th></th>\n",
       "      <th></th>\n",
       "    </tr>\n",
       "  </thead>\n",
       "  <tbody>\n",
       "    <tr>\n",
       "      <th>0</th>\n",
       "      <td> 48</td>\n",
       "      <td>  4</td>\n",
       "      <td>  0</td>\n",
       "      <td> 14</td>\n",
       "      <td> 15</td>\n",
       "    </tr>\n",
       "    <tr>\n",
       "      <th>1</th>\n",
       "      <td> 13</td>\n",
       "      <td> 17</td>\n",
       "      <td> 33</td>\n",
       "      <td> 13</td>\n",
       "      <td>  5</td>\n",
       "    </tr>\n",
       "    <tr>\n",
       "      <th>2</th>\n",
       "      <td> 21</td>\n",
       "      <td> 27</td>\n",
       "      <td>  3</td>\n",
       "      <td> 14</td>\n",
       "      <td> 10</td>\n",
       "    </tr>\n",
       "    <tr>\n",
       "      <th>3</th>\n",
       "      <td>  7</td>\n",
       "      <td>  9</td>\n",
       "      <td> 24</td>\n",
       "      <td> 27</td>\n",
       "      <td> 16</td>\n",
       "    </tr>\n",
       "    <tr>\n",
       "      <th>4</th>\n",
       "      <td> 28</td>\n",
       "      <td> 10</td>\n",
       "      <td>  6</td>\n",
       "      <td> 18</td>\n",
       "      <td> 23</td>\n",
       "    </tr>\n",
       "  </tbody>\n",
       "</table>\n",
       "<p>5 rows × 5 columns</p>\n",
       "</div>"
      ],
      "text/plain": [
       "Predicted   0   1   2   3   4\n",
       "Actual                       \n",
       "0          48   4   0  14  15\n",
       "1          13  17  33  13   5\n",
       "2          21  27   3  14  10\n",
       "3           7   9  24  27  16\n",
       "4          28  10   6  18  23\n",
       "\n",
       "[5 rows x 5 columns]"
      ]
     },
     "execution_count": 8,
     "metadata": {},
     "output_type": "execute_result"
    }
   ],
   "source": [
    "clf = RandomForestClassifier(n_estimators=11)\n",
    "all_features = meta_data_features + color_features\n",
    "\n",
    "# Predicting based on colors and non-color features\n",
    "y, _ = pd.factorize(training_set['genre_ordinal'])\n",
    "clf = clf.fit(training_set[all_features], y)\n",
    "\n",
    "z, _ = pd.factorize(test_set['genre_ordinal'])\n",
    "print clf.score(test_set[all_features],z)\n",
    "pd.crosstab(test_set.genre_ordinal, clf.predict(test_set[all_features]),rownames=[\"Actual\"], colnames=[\"Predicted\"])"
   ]
  },
  {
   "cell_type": "markdown",
   "metadata": {},
   "source": [
    "### Singling Out Pop and Rap\n",
    "Scores are expectedly low. It seems as if we're trying to make the classifier do way too much work, and are giving it very mediocre data to go off of. Recall that we're actually trying to determine WHICH genre a video is by the above code, not whether or not a video is of ONE specific genre. This brings back the binary classifiers that we created above, let's put those to use to see if we can improve these scores."
   ]
  },
  {
   "cell_type": "markdown",
   "metadata": {
    "collapsed": true
   },
   "source": [
    "We try pop and rap first, since they seem to be the most distinct by what we've gathered above."
   ]
  },
  {
   "cell_type": "code",
   "execution_count": 9,
   "metadata": {
    "collapsed": false
   },
   "outputs": [
    {
     "name": "stdout",
     "output_type": "stream",
     "text": [
      "['rating', 'likes', 'dislikes', 'length', 'viewcount', 'colors_1_red', 'colors_1_blue', 'colors_1_green', 'colors_2_red', 'colors_2_blue', 'colors_2_green', 'colors_3_red', 'colors_3_blue', 'colors_3_green', 'colors_4_red', 'colors_4_blue', 'colors_4_green', 'colors_5_red', 'colors_5_blue', 'colors_5_green', 'colors_6_red', 'colors_6_blue', 'colors_6_green', 'colors_7_red', 'colors_7_blue', 'colors_7_green', 'colors_8_red', 'colors_8_blue', 'colors_8_green', 'colors_9_red', 'colors_9_blue', 'colors_9_green', 'colors_10_red', 'colors_10_blue', 'colors_10_green']\n",
      "0.80987654321\n"
     ]
    },
    {
     "data": {
      "text/html": [
       "<div style=\"max-height:1000px;max-width:1500px;overflow:auto;\">\n",
       "<table border=\"1\" class=\"dataframe\">\n",
       "  <thead>\n",
       "    <tr style=\"text-align: right;\">\n",
       "      <th>Predicted</th>\n",
       "      <th>0</th>\n",
       "      <th>1</th>\n",
       "    </tr>\n",
       "    <tr>\n",
       "      <th>Actual</th>\n",
       "      <th></th>\n",
       "      <th></th>\n",
       "    </tr>\n",
       "  </thead>\n",
       "  <tbody>\n",
       "    <tr>\n",
       "      <th>0</th>\n",
       "      <td> 311</td>\n",
       "      <td> 13</td>\n",
       "    </tr>\n",
       "    <tr>\n",
       "      <th>1</th>\n",
       "      <td>  64</td>\n",
       "      <td> 17</td>\n",
       "    </tr>\n",
       "  </tbody>\n",
       "</table>\n",
       "<p>2 rows × 2 columns</p>\n",
       "</div>"
      ],
      "text/plain": [
       "Predicted    0   1\n",
       "Actual            \n",
       "0          311  13\n",
       "1           64  17\n",
       "\n",
       "[2 rows x 2 columns]"
      ]
     },
     "execution_count": 9,
     "metadata": {},
     "output_type": "execute_result"
    }
   ],
   "source": [
    "clf = RandomForestClassifier(n_estimators=11)\n",
    "all_features = meta_data_features + color_features\n",
    "print all_features\n",
    "\n",
    "# Predicting based on colors and non-color features\n",
    "y, _ = pd.factorize(training_set['is_pop'])\n",
    "clf = clf.fit(training_set[all_features], y)\n",
    "\n",
    "z, _ = pd.factorize(test_set['is_pop'])\n",
    "print clf.score(test_set[all_features],z)\n",
    "pd.crosstab(test_set.is_pop, clf.predict(test_set[all_features]),rownames=[\"Actual\"], colnames=[\"Predicted\"])"
   ]
  },
  {
   "cell_type": "code",
   "execution_count": 10,
   "metadata": {
    "collapsed": false
   },
   "outputs": [
    {
     "name": "stdout",
     "output_type": "stream",
     "text": [
      "0.767901234568\n"
     ]
    },
    {
     "data": {
      "text/html": [
       "<div style=\"max-height:1000px;max-width:1500px;overflow:auto;\">\n",
       "<table border=\"1\" class=\"dataframe\">\n",
       "  <thead>\n",
       "    <tr style=\"text-align: right;\">\n",
       "      <th>Predicted</th>\n",
       "      <th>0</th>\n",
       "      <th>1</th>\n",
       "    </tr>\n",
       "    <tr>\n",
       "      <th>Actual</th>\n",
       "      <th></th>\n",
       "      <th></th>\n",
       "    </tr>\n",
       "  </thead>\n",
       "  <tbody>\n",
       "    <tr>\n",
       "      <th>0</th>\n",
       "      <td> 289</td>\n",
       "      <td> 31</td>\n",
       "    </tr>\n",
       "    <tr>\n",
       "      <th>1</th>\n",
       "      <td>  63</td>\n",
       "      <td> 22</td>\n",
       "    </tr>\n",
       "  </tbody>\n",
       "</table>\n",
       "<p>2 rows × 2 columns</p>\n",
       "</div>"
      ],
      "text/plain": [
       "Predicted    0   1\n",
       "Actual            \n",
       "0          289  31\n",
       "1           63  22\n",
       "\n",
       "[2 rows x 2 columns]"
      ]
     },
     "execution_count": 10,
     "metadata": {},
     "output_type": "execute_result"
    }
   ],
   "source": [
    "clf = RandomForestClassifier(n_estimators=11)\n",
    "all_features = meta_data_features + color_features\n",
    "\n",
    "# Predicting based on colors and non-color features\n",
    "y, _ = pd.factorize(training_set['is_rap'])\n",
    "clf = clf.fit(training_set[all_features], y)\n",
    "\n",
    "z, _ = pd.factorize(test_set['is_rap'])\n",
    "print clf.score(test_set[all_features],z)\n",
    "pd.crosstab(test_set.is_rap, clf.predict(test_set[all_features]),rownames=[\"Actual\"], colnames=[\"Predicted\"])"
   ]
  },
  {
   "cell_type": "markdown",
   "metadata": {},
   "source": [
    "What we're seeing above is a confusion matrix that, based on our training data, predicts whether or not a video in the test set is a pop video or not. In the \"predicted\" row, 0 means it predicts it's not a pop video, and that the 1 is. Likewise with the actual, 0 shows that the video actually wasn't a pop video, and the 1 shows that it was.\n",
    "\n",
    "The confusion matrix above is our first effort at utilizing these binary classifiers. Most of our videos aren't pop videos, and the model did a good job of picking out those that aren't pop. However, we could use some improvement in the realm of \"false negatives\", where the model classified a video as not pop when it actually was."
   ]
  },
  {
   "cell_type": "markdown",
   "metadata": {},
   "source": [
    "We do these tests 50 times for sake of average score."
   ]
  },
  {
   "cell_type": "markdown",
   "metadata": {},
   "source": [
    "Rather than hard-coding each time we wanted to run something for average, we wrote a function that does it for us. All we have to do is pass in the boolean classifier in quotes (\"is_rock\", etc.), and the number of iterations that we want. Results are displayed below."
   ]
  },
  {
   "cell_type": "code",
   "execution_count": 11,
   "metadata": {
    "collapsed": false
   },
   "outputs": [],
   "source": [
    "def multi_RF_averages(is_genre,num_iterations):\n",
    "    clf = RandomForestClassifier(n_estimators=11)\n",
    "    loop_indices = range(0,num_iterations)\n",
    "    cumsum = 0\n",
    "\n",
    "    for i in loop_indices:\n",
    "        y, _ = pd.factorize(training_set[is_genre])\n",
    "        clf = clf.fit(training_set[all_features], y)\n",
    "\n",
    "        z, _ = pd.factorize(test_set[is_genre])\n",
    "        cumsum = cumsum + clf.score(test_set[all_features],z)\n",
    "    \n",
    "    \n",
    "    print \"Average Score for\",len(loop_indices),is_genre,\"iterations:\", cumsum/len(loop_indices)\n",
    "    return clf"
   ]
  },
  {
   "cell_type": "code",
   "execution_count": 12,
   "metadata": {
    "collapsed": false
   },
   "outputs": [
    {
     "name": "stdout",
     "output_type": "stream",
     "text": [
      "Average Score for 50 is_pop iterations: 0.810271604938\n",
      "Average Score for 50 is_rap iterations: 0.78449382716\n",
      "Average Score for 50 is_rock iterations: 0.814469135802\n",
      "Average Score for 50 is_edm iterations: 0.756345679012\n",
      "Average Score for 50 is_country iterations: 0.793037037037\n"
     ]
    }
   ],
   "source": [
    "pop_class = multi_RF_averages(\"is_pop\",50)\n",
    "rap_class = multi_RF_averages(\"is_rap\",50)\n",
    "rock_class = multi_RF_averages(\"is_rock\",50)\n",
    "edm_class = multi_RF_averages(\"is_edm\",50)\n",
    "country_class = multi_RF_averages(\"is_country\",50)"
   ]
  },
  {
   "cell_type": "markdown",
   "metadata": {},
   "source": [
    "The following creates several files that describe our classifiers. Our website will later  "
   ]
  },
  {
   "cell_type": "code",
   "execution_count": 13,
   "metadata": {
    "collapsed": false
   },
   "outputs": [],
   "source": [
    "from sklearn.externals import joblib\n",
    "# only use these to generate pickle files for website\n",
    "# joblib.dump(pop_class, 'classifiers/pop_class.pkl')\n",
    "# joblib.dump(rap_class, 'classifiers/rap_class.pkl')\n",
    "# joblib.dump(rock_class, 'classifiers/rock_class.pkl')\n",
    "# joblib.dump(edm_class, 'classifiers/edm_class.pkl')\n",
    "# joblib.dump(country_class, 'classifiers/country_class.pkl')"
   ]
  },
  {
   "cell_type": "markdown",
   "metadata": {},
   "source": [
    "We ran the above test with all genres, and as shown in above analysis, our country and edm typically have very low accuracy. We've seen above that edm and rock videos are getting mixed up with one another, so we assume that something is characteristic of these 2 genres that's not of everything else. We take out the edm values from our training and test datasets, hoping to improve accuracy."
   ]
  },
  {
   "cell_type": "code",
   "execution_count": 14,
   "metadata": {
    "collapsed": false
   },
   "outputs": [
    {
     "name": "stdout",
     "output_type": "stream",
     "text": [
      "Average Score for 50 is_pop iterations: 0.83900621118\n",
      "Average Score for 50 is_rap iterations: 0.744472049689\n",
      "Average Score for 50 is_rock iterations: 0.771242236025\n",
      "Average Score for 50 is_edm iterations: 1.0\n",
      "Average Score for 50 is_country iterations: 0.737888198758\n"
     ]
    },
    {
     "data": {
      "text/plain": [
       "RandomForestClassifier(bootstrap=True, class_weight=None, criterion='gini',\n",
       "            max_depth=None, max_features='auto', max_leaf_nodes=None,\n",
       "            min_impurity_split=1e-07, min_samples_leaf=1,\n",
       "            min_samples_split=2, min_weight_fraction_leaf=0.0,\n",
       "            n_estimators=11, n_jobs=1, oob_score=False, random_state=None,\n",
       "            verbose=0, warm_start=False)"
      ]
     },
     "execution_count": 14,
     "metadata": {},
     "output_type": "execute_result"
    }
   ],
   "source": [
    "# Removing EDM for better analysis - makes is_pop and is_rap much more accurate\n",
    "training_set = pd.concat([country_train,rock_train,pop_train,rap_train])\n",
    "test_set     = pd.concat([country_test,rock_test,pop_test,rap_test])\n",
    "\n",
    "multi_RF_averages(\"is_pop\",50)\n",
    "multi_RF_averages(\"is_rap\",50)\n",
    "multi_RF_averages(\"is_rock\",50)\n",
    "multi_RF_averages(\"is_edm\",50)\n",
    "multi_RF_averages(\"is_country\",50)"
   ]
  },
  {
   "cell_type": "markdown",
   "metadata": {
    "collapsed": true
   },
   "source": [
    "So, what does this tell us? Based on our training data, we have the best chance of accurately classifying something as pop or not pop (under these conditions). "
   ]
  },
  {
   "cell_type": "markdown",
   "metadata": {},
   "source": [
    "We want to find out which 2 are the most distinct, so we can make build our model based on that classification."
   ]
  },
  {
   "cell_type": "code",
   "execution_count": 15,
   "metadata": {
    "collapsed": false
   },
   "outputs": [
    {
     "name": "stdout",
     "output_type": "stream",
     "text": [
      "Average Score for 50 is_rock iterations: 0.824\n",
      "Average Score for 50 is_rap iterations: 0.745176470588\n",
      "Average Score for 50 is_country iterations: 0.212098765432\n",
      "Average Score for 50 is_pop iterations: 0.727654320988\n",
      "Average Score for 50 is_edm iterations: 0.926265060241\n"
     ]
    },
    {
     "data": {
      "text/plain": [
       "RandomForestClassifier(bootstrap=True, class_weight=None, criterion='gini',\n",
       "            max_depth=None, max_features='auto', max_leaf_nodes=None,\n",
       "            min_impurity_split=1e-07, min_samples_leaf=1,\n",
       "            min_samples_split=2, min_weight_fraction_leaf=0.0,\n",
       "            n_estimators=11, n_jobs=1, oob_score=False, random_state=None,\n",
       "            verbose=0, warm_start=False)"
      ]
     },
     "execution_count": 15,
     "metadata": {},
     "output_type": "execute_result"
    }
   ],
   "source": [
    "training_set = pd.concat([country_train,rock_train,edm_train,rap_train,pop_train])\n",
    "\n",
    "test_set     = pd.concat([rock_test])\n",
    "multi_RF_averages(\"is_rock\",50)\n",
    "\n",
    "test_set     = pd.concat([rap_test])\n",
    "multi_RF_averages(\"is_rap\",50)\n",
    "\n",
    "test_set     = pd.concat([country_test])\n",
    "multi_RF_averages(\"is_country\",50)\n",
    "\n",
    "test_set     = pd.concat([pop_test])\n",
    "multi_RF_averages(\"is_pop\",50)\n",
    "\n",
    "test_set     = pd.concat([edm_test])\n",
    "multi_RF_averages(\"is_edm\",50)"
   ]
  },
  {
   "cell_type": "markdown",
   "metadata": {},
   "source": [
    "Rock and EDM have suprisingly distinct classifiers. We should dive into the videos and see what this means."
   ]
  },
  {
   "cell_type": "code",
   "execution_count": 16,
   "metadata": {
    "collapsed": false
   },
   "outputs": [
    {
     "name": "stdout",
     "output_type": "stream",
     "text": [
      "Average Score for 50 is_edm iterations: 0.523797468354\n",
      "Average Score for 50 is_rock iterations: 0.589620253165\n"
     ]
    },
    {
     "data": {
      "text/plain": [
       "RandomForestClassifier(bootstrap=True, class_weight=None, criterion='gini',\n",
       "            max_depth=None, max_features='auto', max_leaf_nodes=None,\n",
       "            min_impurity_split=1e-07, min_samples_leaf=1,\n",
       "            min_samples_split=2, min_weight_fraction_leaf=0.0,\n",
       "            n_estimators=11, n_jobs=1, oob_score=False, random_state=None,\n",
       "            verbose=0, warm_start=False)"
      ]
     },
     "execution_count": 16,
     "metadata": {},
     "output_type": "execute_result"
    }
   ],
   "source": [
    "test_set     = pd.concat([edm_test,rock_test])\n",
    "multi_RF_averages(\"is_edm\",50)\n",
    "multi_RF_averages(\"is_rock\",50)"
   ]
  },
  {
   "cell_type": "markdown",
   "metadata": {},
   "source": [
    "### Selecting Most Valuable Features per Genre - Rock"
   ]
  },
  {
   "cell_type": "code",
   "execution_count": 17,
   "metadata": {
    "collapsed": false
   },
   "outputs": [
    {
     "name": "stdout",
     "output_type": "stream",
     "text": [
      "[ 0.03215376  0.03177851  0.03505766  0.04129051  0.02814354  0.02575379\n",
      "  0.03171086  0.03654139  0.02574975  0.01578325  0.02653417  0.03130137\n",
      "  0.02926545  0.02289587  0.02684631  0.03361007  0.02944086  0.02107275\n",
      "  0.02752795  0.03850809  0.04428544  0.03098749  0.02239601  0.02863052\n",
      "  0.03092083  0.024       0.02473154  0.02474276  0.02801491  0.02447993\n",
      "  0.03047746  0.02094644  0.02267132  0.02309511  0.02865437]\n"
     ]
    }
   ],
   "source": [
    "model = ExtraTreesClassifier()\n",
    "\n",
    "training_set = pd.concat([country_train,pop_train,rap_train,rock_train,edm_train])\n",
    "y, _ = pd.factorize(training_set['is_rock'])\n",
    "model.fit(training_set[all_features], y)\n",
    "\n",
    "# display the relative importance of each attribute\n",
    "print model.feature_importances_"
   ]
  },
  {
   "cell_type": "code",
   "execution_count": 18,
   "metadata": {
    "collapsed": false
   },
   "outputs": [],
   "source": [
    "df = pd.DataFrame()\n",
    "df['index'] = all_features\n",
    "\n",
    "y, _ = pd.factorize(training_set['is_rap'])\n",
    "model.fit(training_set[all_features], y)\n",
    "        \n",
    "df['rap'] = model.feature_importances_\n",
    "\n",
    "y, _ = pd.factorize(training_set['is_rock'])\n",
    "model.fit(training_set[all_features], y)\n",
    "\n",
    "df['rock'] = model.feature_importances_\n",
    "\n",
    "y, _ = pd.factorize(training_set['is_country'])\n",
    "model.fit(training_set[all_features], y)\n",
    "\n",
    "df['country'] = model.feature_importances_\n",
    "\n",
    "y, _ = pd.factorize(training_set['is_edm'])\n",
    "model.fit(training_set[all_features], y)\n",
    "\n",
    "df['edm'] = model.feature_importances_\n",
    "\n",
    "y, _ = pd.factorize(training_set['is_pop'])\n",
    "model.fit(training_set[all_features], y)\n",
    "\n",
    "df['pop'] = model.feature_importances_"
   ]
  },
  {
   "cell_type": "code",
   "execution_count": 19,
   "metadata": {
    "collapsed": false
   },
   "outputs": [
    {
     "data": {
      "text/html": [
       "<div style=\"max-height:1000px;max-width:1500px;overflow:auto;\">\n",
       "<table border=\"1\" class=\"dataframe\">\n",
       "  <thead>\n",
       "    <tr style=\"text-align: right;\">\n",
       "      <th>index</th>\n",
       "      <th>rating</th>\n",
       "      <th>likes</th>\n",
       "      <th>dislikes</th>\n",
       "      <th>length</th>\n",
       "      <th>viewcount</th>\n",
       "      <th>colors_1_red</th>\n",
       "      <th>colors_1_blue</th>\n",
       "      <th>colors_1_green</th>\n",
       "      <th>colors_2_red</th>\n",
       "      <th>colors_2_blue</th>\n",
       "      <th>colors_2_green</th>\n",
       "      <th>colors_3_red</th>\n",
       "      <th>colors_3_blue</th>\n",
       "      <th>colors_3_green</th>\n",
       "      <th>colors_4_red</th>\n",
       "      <th>colors_4_blue</th>\n",
       "      <th>colors_4_green</th>\n",
       "      <th>colors_5_red</th>\n",
       "      <th>colors_5_blue</th>\n",
       "      <th>colors_5_green</th>\n",
       "      <th></th>\n",
       "    </tr>\n",
       "  </thead>\n",
       "  <tbody>\n",
       "    <tr>\n",
       "      <th>rap</th>\n",
       "      <td> 0.047518</td>\n",
       "      <td> 0.044509</td>\n",
       "      <td> 0.026947</td>\n",
       "      <td> 0.048549</td>\n",
       "      <td> 0.068925</td>\n",
       "      <td> 0.020245</td>\n",
       "      <td> 0.029470</td>\n",
       "      <td> 0.036669</td>\n",
       "      <td> 0.022064</td>\n",
       "      <td> 0.025914</td>\n",
       "      <td> 0.032847</td>\n",
       "      <td> 0.020178</td>\n",
       "      <td> 0.019545</td>\n",
       "      <td> 0.024083</td>\n",
       "      <td> 0.027169</td>\n",
       "      <td> 0.029987</td>\n",
       "      <td> 0.030205</td>\n",
       "      <td> 0.026613</td>\n",
       "      <td> 0.033678</td>\n",
       "      <td> 0.015384</td>\n",
       "      <td>...</td>\n",
       "    </tr>\n",
       "    <tr>\n",
       "      <th>rock</th>\n",
       "      <td> 0.038210</td>\n",
       "      <td> 0.027530</td>\n",
       "      <td> 0.034013</td>\n",
       "      <td> 0.067918</td>\n",
       "      <td> 0.026355</td>\n",
       "      <td> 0.025508</td>\n",
       "      <td> 0.035172</td>\n",
       "      <td> 0.028821</td>\n",
       "      <td> 0.024865</td>\n",
       "      <td> 0.017377</td>\n",
       "      <td> 0.025067</td>\n",
       "      <td> 0.037129</td>\n",
       "      <td> 0.032313</td>\n",
       "      <td> 0.038196</td>\n",
       "      <td> 0.023275</td>\n",
       "      <td> 0.018912</td>\n",
       "      <td> 0.029145</td>\n",
       "      <td> 0.033083</td>\n",
       "      <td> 0.025767</td>\n",
       "      <td> 0.021179</td>\n",
       "      <td>...</td>\n",
       "    </tr>\n",
       "    <tr>\n",
       "      <th>country</th>\n",
       "      <td> 0.038492</td>\n",
       "      <td> 0.045486</td>\n",
       "      <td> 0.028221</td>\n",
       "      <td> 0.018982</td>\n",
       "      <td> 0.042292</td>\n",
       "      <td> 0.026688</td>\n",
       "      <td> 0.017241</td>\n",
       "      <td> 0.031658</td>\n",
       "      <td> 0.025009</td>\n",
       "      <td> 0.026803</td>\n",
       "      <td> 0.021720</td>\n",
       "      <td> 0.025610</td>\n",
       "      <td> 0.020599</td>\n",
       "      <td> 0.026612</td>\n",
       "      <td> 0.032661</td>\n",
       "      <td> 0.028635</td>\n",
       "      <td> 0.033870</td>\n",
       "      <td> 0.024077</td>\n",
       "      <td> 0.023897</td>\n",
       "      <td> 0.029288</td>\n",
       "      <td>...</td>\n",
       "    </tr>\n",
       "    <tr>\n",
       "      <th>edm</th>\n",
       "      <td> 0.028083</td>\n",
       "      <td> 0.029260</td>\n",
       "      <td> 0.035402</td>\n",
       "      <td> 0.029115</td>\n",
       "      <td> 0.034032</td>\n",
       "      <td> 0.026592</td>\n",
       "      <td> 0.024570</td>\n",
       "      <td> 0.017721</td>\n",
       "      <td> 0.022563</td>\n",
       "      <td> 0.022167</td>\n",
       "      <td> 0.025107</td>\n",
       "      <td> 0.028665</td>\n",
       "      <td> 0.032543</td>\n",
       "      <td> 0.023773</td>\n",
       "      <td> 0.019332</td>\n",
       "      <td> 0.031252</td>\n",
       "      <td> 0.038824</td>\n",
       "      <td> 0.030370</td>\n",
       "      <td> 0.032247</td>\n",
       "      <td> 0.029857</td>\n",
       "      <td>...</td>\n",
       "    </tr>\n",
       "    <tr>\n",
       "      <th>pop</th>\n",
       "      <td> 0.025182</td>\n",
       "      <td> 0.143491</td>\n",
       "      <td> 0.168979</td>\n",
       "      <td> 0.021370</td>\n",
       "      <td> 0.119519</td>\n",
       "      <td> 0.019349</td>\n",
       "      <td> 0.017362</td>\n",
       "      <td> 0.010976</td>\n",
       "      <td> 0.012727</td>\n",
       "      <td> 0.024821</td>\n",
       "      <td> 0.019371</td>\n",
       "      <td> 0.015525</td>\n",
       "      <td> 0.017323</td>\n",
       "      <td> 0.014381</td>\n",
       "      <td> 0.024512</td>\n",
       "      <td> 0.015031</td>\n",
       "      <td> 0.013566</td>\n",
       "      <td> 0.015581</td>\n",
       "      <td> 0.016733</td>\n",
       "      <td> 0.013688</td>\n",
       "      <td>...</td>\n",
       "    </tr>\n",
       "  </tbody>\n",
       "</table>\n",
       "<p>5 rows × 35 columns</p>\n",
       "</div>"
      ],
      "text/plain": [
       "index      rating     likes  dislikes    length  viewcount  colors_1_red  \\\n",
       "rap      0.047518  0.044509  0.026947  0.048549   0.068925      0.020245   \n",
       "rock     0.038210  0.027530  0.034013  0.067918   0.026355      0.025508   \n",
       "country  0.038492  0.045486  0.028221  0.018982   0.042292      0.026688   \n",
       "edm      0.028083  0.029260  0.035402  0.029115   0.034032      0.026592   \n",
       "pop      0.025182  0.143491  0.168979  0.021370   0.119519      0.019349   \n",
       "\n",
       "index    colors_1_blue  colors_1_green  colors_2_red  colors_2_blue  \\\n",
       "rap           0.029470        0.036669      0.022064       0.025914   \n",
       "rock          0.035172        0.028821      0.024865       0.017377   \n",
       "country       0.017241        0.031658      0.025009       0.026803   \n",
       "edm           0.024570        0.017721      0.022563       0.022167   \n",
       "pop           0.017362        0.010976      0.012727       0.024821   \n",
       "\n",
       "index    colors_2_green  colors_3_red  colors_3_blue  colors_3_green  \\\n",
       "rap            0.032847      0.020178       0.019545        0.024083   \n",
       "rock           0.025067      0.037129       0.032313        0.038196   \n",
       "country        0.021720      0.025610       0.020599        0.026612   \n",
       "edm            0.025107      0.028665       0.032543        0.023773   \n",
       "pop            0.019371      0.015525       0.017323        0.014381   \n",
       "\n",
       "index    colors_4_red  colors_4_blue  colors_4_green  colors_5_red  \\\n",
       "rap          0.027169       0.029987        0.030205      0.026613   \n",
       "rock         0.023275       0.018912        0.029145      0.033083   \n",
       "country      0.032661       0.028635        0.033870      0.024077   \n",
       "edm          0.019332       0.031252        0.038824      0.030370   \n",
       "pop          0.024512       0.015031        0.013566      0.015581   \n",
       "\n",
       "index    colors_5_blue  colors_5_green      \n",
       "rap           0.033678        0.015384 ...  \n",
       "rock          0.025767        0.021179 ...  \n",
       "country       0.023897        0.029288 ...  \n",
       "edm           0.032247        0.029857 ...  \n",
       "pop           0.016733        0.013688 ...  \n",
       "\n",
       "[5 rows x 35 columns]"
      ]
     },
     "execution_count": 19,
     "metadata": {},
     "output_type": "execute_result"
    }
   ],
   "source": [
    "df = df.set_index('index')\n",
    "df = df.transpose()\n",
    "df.head()"
   ]
  },
  {
   "cell_type": "code",
   "execution_count": 28,
   "metadata": {
    "collapsed": false
   },
   "outputs": [
    {
     "name": "stdout",
     "output_type": "stream",
     "text": [
      "[[0.04751846813757317, 0.04450860945678809, 0.026946872025639845, 0.04854879161636211, 0.06892461649124429, 0.020244662439165197, 0.029469591198911304, 0.03666895866275123, 0.022064296236677206, 0.025913540404628243, 0.0328473922409685, 0.020177816362440794, 0.01954470517035783, 0.024083395556533084, 0.02716897135714228, 0.0299871399410516, 0.030204914112677794, 0.026612903579196108, 0.033678100812857076, 0.015384066701009187, 0.0377606319761716, 0.023283097779122113, 0.026896605875738656, 0.02370724274142814, 0.022917492209296515, 0.03315687278213647, 0.022636611276494613, 0.020829799925699225, 0.024590609218013638, 0.019688600158474658, 0.02431423367747316, 0.030478725679808666, 0.019923824988711373, 0.012386350397526355, 0.026931488809929995], [0.03820965976479474, 0.02753037806867034, 0.0340131434468542, 0.06791847333860007, 0.026355397033801558, 0.02550808124853287, 0.03517179068395991, 0.028820656298402664, 0.024865336561169366, 0.017377287210609042, 0.025067429774877664, 0.03712925603631885, 0.032313431624130654, 0.038195928655306036, 0.023275307183976413, 0.01891160922372603, 0.02914479419186452, 0.03308264141281638, 0.025766988170473615, 0.02117862890471036, 0.03454471526651034, 0.02874953328420889, 0.02589834847364113, 0.023687853895087523, 0.020170353110942778, 0.03404435453090807, 0.02542704493728982, 0.023998457655911336, 0.020884384094487254, 0.023036103651904234, 0.03447665812922108, 0.0207688983761078, 0.02616763410506969, 0.01664348412858725, 0.03166595752652742], [0.038492322631438716, 0.045486078988124935, 0.028221428326983496, 0.018982051570874937, 0.042292196161463236, 0.026688175973264932, 0.017241090327986788, 0.03165804124107317, 0.025008722174609282, 0.02680277078775852, 0.021720306937796027, 0.025609712677840114, 0.020599273596548933, 0.026611742440018803, 0.032661331880473085, 0.028635346967783425, 0.033869672900653916, 0.02407678279615873, 0.02389680011782138, 0.029288064748095928, 0.03231456538677038, 0.025522108438835046, 0.032449707418120144, 0.023296733008336935, 0.034257095599808315, 0.027813891432831965, 0.028878412706529515, 0.023239697524282992, 0.03347701485537924, 0.03237786067825238, 0.028867002107612873, 0.02653381982789816, 0.015369669974456185, 0.03039838154303724, 0.03736212625108022], [0.028083091393088795, 0.02925982866606816, 0.035402135893162004, 0.029114766721899627, 0.03403230242158296, 0.026592498382255525, 0.02456989381731677, 0.017720930091760297, 0.022562942748568654, 0.022167296549449416, 0.025106889075752196, 0.028665284951930048, 0.032542996748968635, 0.0237725164793399, 0.019331805568237072, 0.031252171204955666, 0.03882406293867897, 0.03036989040829487, 0.03224732020959375, 0.029857107903605927, 0.026485112482593737, 0.02804476420296878, 0.033049262545111355, 0.02528004653713515, 0.03142009660753499, 0.026762062786309028, 0.021691531011036047, 0.021270665315099545, 0.035164016091217165, 0.02321047128941852, 0.03065668685222178, 0.03164276901326415, 0.03070841341208818, 0.030035340645568155, 0.04310302903392418], [0.025181960908518375, 0.14349123469243946, 0.16897911783629957, 0.02137023726023631, 0.11951859058975425, 0.019349123091656144, 0.017361887179769834, 0.010976307846218671, 0.012726752320135573, 0.024820713019392485, 0.019370968808225697, 0.01552530969200926, 0.017323456596456153, 0.014380825294978406, 0.02451225875710663, 0.015030724002407065, 0.01356619976144025, 0.015581235408741886, 0.016732737696410382, 0.013688399761101536, 0.017269472731588947, 0.012241376375142377, 0.01433871726646221, 0.015371294285551335, 0.017401094790585384, 0.013270932167514706, 0.022989235701943618, 0.011605946330226631, 0.02059259403476684, 0.0171798520184634, 0.021834919621225357, 0.01602093746796323, 0.022080114864940582, 0.024634912100715892, 0.023680559719611506]]\n"
     ]
    }
   ],
   "source": [
    "lol = "
   ]
  },
  {
   "cell_type": "code",
   "execution_count": 48,
   "metadata": {
    "collapsed": false
   },
   "outputs": [],
   "source": [
    "lol = df.values.tolist()\n",
    "\n",
    "cols = []\n",
    "for x in df.columns:\n",
    "    cols.append(x)\n"
   ]
  },
  {
   "cell_type": "code",
   "execution_count": 51,
   "metadata": {
    "collapsed": false
   },
   "outputs": [
    {
     "ename": "PlotlyError",
     "evalue": "Plotly Offline mode has not been initialized in this notebook. Run: \n\nimport plotly\nplotly.offline.init_notebook_mode() # run at the start of every ipython notebook",
     "output_type": "error",
     "traceback": [
      "\u001b[0;31m---------------------------------------------------------------------------\u001b[0m",
      "\u001b[0;31mPlotlyError\u001b[0m                               Traceback (most recent call last)",
      "\u001b[0;32m<ipython-input-51-b3ec171dfba6>\u001b[0m in \u001b[0;36m<module>\u001b[0;34m()\u001b[0m\n\u001b[1;32m     83\u001b[0m \u001b[0;34m\u001b[0m\u001b[0m\n\u001b[1;32m     84\u001b[0m \u001b[0mfig\u001b[0m \u001b[0;34m=\u001b[0m \u001b[0mgo\u001b[0m\u001b[0;34m.\u001b[0m\u001b[0mFigure\u001b[0m\u001b[0;34m(\u001b[0m\u001b[0mdata\u001b[0m\u001b[0;34m=\u001b[0m\u001b[0mtraces\u001b[0m\u001b[0;34m,\u001b[0m \u001b[0mlayout\u001b[0m\u001b[0;34m=\u001b[0m\u001b[0mlayout\u001b[0m\u001b[0;34m)\u001b[0m\u001b[0;34m\u001b[0m\u001b[0m\n\u001b[0;32m---> 85\u001b[0;31m \u001b[0mpy\u001b[0m\u001b[0;34m.\u001b[0m\u001b[0miplot\u001b[0m\u001b[0;34m(\u001b[0m\u001b[0mfig\u001b[0m\u001b[0;34m,\u001b[0m \u001b[0mfilename\u001b[0m\u001b[0;34m=\u001b[0m\u001b[0;34m'news-source'\u001b[0m\u001b[0;34m)\u001b[0m\u001b[0;34m\u001b[0m\u001b[0m\n\u001b[0m",
      "\u001b[0;32m/Users/wesm/anaconda/envs/openCV/lib/python2.7/site-packages/plotly/offline/offline.pyc\u001b[0m in \u001b[0;36miplot\u001b[0;34m(figure_or_data, show_link, link_text, validate, image, filename, image_width, image_height)\u001b[0m\n\u001b[1;32m    283\u001b[0m             \u001b[0;34m''\u001b[0m\u001b[0;34m,\u001b[0m\u001b[0;34m\u001b[0m\u001b[0m\n\u001b[1;32m    284\u001b[0m             \u001b[0;34m'import plotly'\u001b[0m\u001b[0;34m,\u001b[0m\u001b[0;34m\u001b[0m\u001b[0m\n\u001b[0;32m--> 285\u001b[0;31m             \u001b[0;34m'plotly.offline.init_notebook_mode() '\u001b[0m\u001b[0;34m\u001b[0m\u001b[0m\n\u001b[0m\u001b[1;32m    286\u001b[0m             \u001b[0;34m'# run at the start of every ipython notebook'\u001b[0m\u001b[0;34m,\u001b[0m\u001b[0;34m\u001b[0m\u001b[0m\n\u001b[1;32m    287\u001b[0m         ]))\n",
      "\u001b[0;31mPlotlyError\u001b[0m: Plotly Offline mode has not been initialized in this notebook. Run: \n\nimport plotly\nplotly.offline.init_notebook_mode() # run at the start of every ipython notebook"
     ]
    }
   ],
   "source": [
    "import plotly.offline as py  # a little wordplay\n",
    "import plotly.graph_objs as go\n",
    "\n",
    "offline.init_notebook_mode()\n",
    "\n",
    "title = 'Feature Importance By Genre'\n",
    "\n",
    "labels = [ ]\n",
    "\n",
    "mode_size = [8, 8, 12, 8]\n",
    "\n",
    "line_size = [2, 2, 4, 2]\n",
    "\n",
    "x_data = cols\n",
    "\n",
    "y_data = df.values.tolist()\n",
    "traces = []\n",
    "\n",
    "for i in range(0, 4):\n",
    "    traces.append(go.Scatter(\n",
    "        x=x_data,\n",
    "        y=y_data[i],\n",
    "        mode='lines',\n",
    "        connectgaps=True,\n",
    "    ))\n",
    "\n",
    "\n",
    "\n",
    "layout = go.Layout(\n",
    "    yaxis=dict(\n",
    "        showgrid=False,\n",
    "        zeroline=False,\n",
    "        showline=False,\n",
    "        showticklabels=False,\n",
    "    ),\n",
    "    autosize=False,\n",
    "    margin=dict(\n",
    "        autoexpand=True,\n",
    "        l=100,\n",
    "        r=20,\n",
    "        t=110,\n",
    "    ),\n",
    "    showlegend=False,\n",
    ")\n",
    "\n",
    "annotations = []\n",
    "\n",
    "# Adding labels\n",
    "for y_trace, label in zip(y_data, labels):\n",
    "    # labeling the left_side of the plot\n",
    "    annotations.append(dict(xref='paper', x=0.05, y=y_trace[0],\n",
    "                                  xanchor='right', yanchor='middle',\n",
    "                                  text=label + ' {}%'.format(y_trace[0]),\n",
    "                                  font=dict(family='Arial',\n",
    "                                            size=16,\n",
    "                                            ),\n",
    "                                  showarrow=False))\n",
    "    # labeling the right_side of the plot\n",
    "    annotations.append(dict(xref='paper', x=0.95, y=y_trace[11],\n",
    "                                  xanchor='left', yanchor='middle',\n",
    "                                  text='{}%'.format(y_trace[11]),\n",
    "                                  font=dict(family='Arial',\n",
    "                                            size=16,\n",
    "                                            ),\n",
    "                                  showarrow=False))\n",
    "# Title\n",
    "annotations.append(dict(xref='paper', yref='paper', x=0.0, y=1.05,\n",
    "                              xanchor='left', yanchor='bottom',\n",
    "                              text='Feature Importance By Genre',\n",
    "                              font=dict(family='Arial',\n",
    "                                        size=30,\n",
    "                                        ),\n",
    "                              showarrow=False))\n",
    "# Source\n",
    "# annotations.append(dict(xref='paper', yref='paper', x=0.5, y=-0.1,\n",
    "#                               xanchor='center', yanchor='top',\n",
    "#                               text='Source: PewResearch Center & ' +\n",
    "#                                    'Storytelling with data',\n",
    "#                               font=dict(family='Arial',\n",
    "#                                         size=12,\n",
    "#                                         ),\n",
    "#                               showarrow=False))\n",
    "\n",
    "layout['annotations'] = annotations\n",
    "\n",
    "fig = go.Figure(data=traces, layout=layout)\n",
    "py.iplot(fig, filename='news-source')"
   ]
  },
  {
   "cell_type": "code",
   "execution_count": 36,
   "metadata": {
    "collapsed": false
   },
   "outputs": [
    {
     "ename": "ValueError",
     "evalue": "cannot label index with a null key",
     "output_type": "error",
     "traceback": [
      "\u001b[0;31m---------------------------------------------------------------------------\u001b[0m",
      "\u001b[0;31mValueError\u001b[0m                                Traceback (most recent call last)",
      "\u001b[0;32m<ipython-input-36-c3532476d7df>\u001b[0m in \u001b[0;36m<module>\u001b[0;34m()\u001b[0m\n\u001b[1;32m      1\u001b[0m \u001b[0;32mimport\u001b[0m \u001b[0mseaborn\u001b[0m \u001b[0;32mas\u001b[0m \u001b[0msns\u001b[0m\u001b[0;34m\u001b[0m\u001b[0m\n\u001b[1;32m      2\u001b[0m \u001b[0msns\u001b[0m\u001b[0;34m.\u001b[0m\u001b[0mset_style\u001b[0m\u001b[0;34m(\u001b[0m\u001b[0;34m\"whitegrid\"\u001b[0m\u001b[0;34m)\u001b[0m\u001b[0;34m\u001b[0m\u001b[0m\n\u001b[0;32m----> 3\u001b[0;31m \u001b[0max\u001b[0m \u001b[0;34m=\u001b[0m \u001b[0msns\u001b[0m\u001b[0;34m.\u001b[0m\u001b[0mpointplot\u001b[0m\u001b[0;34m(\u001b[0m\u001b[0mx\u001b[0m\u001b[0;34m=\u001b[0m\u001b[0;34m\"likes\"\u001b[0m\u001b[0;34m,\u001b[0m \u001b[0my\u001b[0m\u001b[0;34m=\u001b[0m\u001b[0;34m\"rating\"\u001b[0m\u001b[0;34m,\u001b[0m\u001b[0mdata\u001b[0m\u001b[0;34m=\u001b[0m\u001b[0mdf\u001b[0m\u001b[0;34m)\u001b[0m\u001b[0;34m\u001b[0m\u001b[0m\n\u001b[0m\u001b[1;32m      4\u001b[0m \u001b[0msns\u001b[0m\u001b[0;34m.\u001b[0m\u001b[0mplt\u001b[0m\u001b[0;34m.\u001b[0m\u001b[0mshow\u001b[0m\u001b[0;34m(\u001b[0m\u001b[0;34m)\u001b[0m\u001b[0;34m\u001b[0m\u001b[0m\n",
      "\u001b[0;32m/Users/wesm/anaconda/envs/openCV/lib/python2.7/site-packages/seaborn/categorical.pyc\u001b[0m in \u001b[0;36mpointplot\u001b[0;34m(x, y, hue, data, order, hue_order, estimator, ci, n_boot, units, markers, linestyles, dodge, join, scale, orient, color, palette, ax, errwidth, capsize, **kwargs)\u001b[0m\n\u001b[1;32m   3065\u001b[0m                             \u001b[0mestimator\u001b[0m\u001b[0;34m,\u001b[0m \u001b[0mci\u001b[0m\u001b[0;34m,\u001b[0m \u001b[0mn_boot\u001b[0m\u001b[0;34m,\u001b[0m \u001b[0munits\u001b[0m\u001b[0;34m,\u001b[0m\u001b[0;34m\u001b[0m\u001b[0m\n\u001b[1;32m   3066\u001b[0m                             \u001b[0mmarkers\u001b[0m\u001b[0;34m,\u001b[0m \u001b[0mlinestyles\u001b[0m\u001b[0;34m,\u001b[0m \u001b[0mdodge\u001b[0m\u001b[0;34m,\u001b[0m \u001b[0mjoin\u001b[0m\u001b[0;34m,\u001b[0m \u001b[0mscale\u001b[0m\u001b[0;34m,\u001b[0m\u001b[0;34m\u001b[0m\u001b[0m\n\u001b[0;32m-> 3067\u001b[0;31m                             orient, color, palette, errwidth, capsize)\n\u001b[0m\u001b[1;32m   3068\u001b[0m \u001b[0;34m\u001b[0m\u001b[0m\n\u001b[1;32m   3069\u001b[0m     \u001b[0;32mif\u001b[0m \u001b[0max\u001b[0m \u001b[0;32mis\u001b[0m \u001b[0mNone\u001b[0m\u001b[0;34m:\u001b[0m\u001b[0;34m\u001b[0m\u001b[0m\n",
      "\u001b[0;32m/Users/wesm/anaconda/envs/openCV/lib/python2.7/site-packages/seaborn/categorical.pyc\u001b[0m in \u001b[0;36m__init__\u001b[0;34m(self, x, y, hue, data, order, hue_order, estimator, ci, n_boot, units, markers, linestyles, dodge, join, scale, orient, color, palette, errwidth, capsize)\u001b[0m\n\u001b[1;32m   1607\u001b[0m         \u001b[0;34m\"\"\"Initialize the plotter.\"\"\"\u001b[0m\u001b[0;34m\u001b[0m\u001b[0m\n\u001b[1;32m   1608\u001b[0m         self.establish_variables(x, y, hue, data, orient,\n\u001b[0;32m-> 1609\u001b[0;31m                                  order, hue_order, units)\n\u001b[0m\u001b[1;32m   1610\u001b[0m         \u001b[0mself\u001b[0m\u001b[0;34m.\u001b[0m\u001b[0mestablish_colors\u001b[0m\u001b[0;34m(\u001b[0m\u001b[0mcolor\u001b[0m\u001b[0;34m,\u001b[0m \u001b[0mpalette\u001b[0m\u001b[0;34m,\u001b[0m \u001b[0;36m1\u001b[0m\u001b[0;34m)\u001b[0m\u001b[0;34m\u001b[0m\u001b[0m\n\u001b[1;32m   1611\u001b[0m         \u001b[0mself\u001b[0m\u001b[0;34m.\u001b[0m\u001b[0mestimate_statistic\u001b[0m\u001b[0;34m(\u001b[0m\u001b[0mestimator\u001b[0m\u001b[0;34m,\u001b[0m \u001b[0mci\u001b[0m\u001b[0;34m,\u001b[0m \u001b[0mn_boot\u001b[0m\u001b[0;34m)\u001b[0m\u001b[0;34m\u001b[0m\u001b[0m\n",
      "\u001b[0;32m/Users/wesm/anaconda/envs/openCV/lib/python2.7/site-packages/seaborn/categorical.pyc\u001b[0m in \u001b[0;36mestablish_variables\u001b[0;34m(self, x, y, hue, data, orient, order, hue_order, units)\u001b[0m\n\u001b[1;32m    142\u001b[0m                 \u001b[0mx\u001b[0m \u001b[0;34m=\u001b[0m \u001b[0mdata\u001b[0m\u001b[0;34m.\u001b[0m\u001b[0mget\u001b[0m\u001b[0;34m(\u001b[0m\u001b[0mx\u001b[0m\u001b[0;34m,\u001b[0m \u001b[0mx\u001b[0m\u001b[0;34m)\u001b[0m\u001b[0;34m\u001b[0m\u001b[0m\n\u001b[1;32m    143\u001b[0m                 \u001b[0my\u001b[0m \u001b[0;34m=\u001b[0m \u001b[0mdata\u001b[0m\u001b[0;34m.\u001b[0m\u001b[0mget\u001b[0m\u001b[0;34m(\u001b[0m\u001b[0my\u001b[0m\u001b[0;34m,\u001b[0m \u001b[0my\u001b[0m\u001b[0;34m)\u001b[0m\u001b[0;34m\u001b[0m\u001b[0m\n\u001b[0;32m--> 144\u001b[0;31m                 \u001b[0mhue\u001b[0m \u001b[0;34m=\u001b[0m \u001b[0mdata\u001b[0m\u001b[0;34m.\u001b[0m\u001b[0mget\u001b[0m\u001b[0;34m(\u001b[0m\u001b[0mhue\u001b[0m\u001b[0;34m,\u001b[0m \u001b[0mhue\u001b[0m\u001b[0;34m)\u001b[0m\u001b[0;34m\u001b[0m\u001b[0m\n\u001b[0m\u001b[1;32m    145\u001b[0m                 \u001b[0munits\u001b[0m \u001b[0;34m=\u001b[0m \u001b[0mdata\u001b[0m\u001b[0;34m.\u001b[0m\u001b[0mget\u001b[0m\u001b[0;34m(\u001b[0m\u001b[0munits\u001b[0m\u001b[0;34m,\u001b[0m \u001b[0munits\u001b[0m\u001b[0;34m)\u001b[0m\u001b[0;34m\u001b[0m\u001b[0m\n\u001b[1;32m    146\u001b[0m \u001b[0;34m\u001b[0m\u001b[0m\n",
      "\u001b[0;32m/Users/wesm/anaconda/envs/openCV/lib/python2.7/site-packages/pandas/core/generic.pyc\u001b[0m in \u001b[0;36mget\u001b[0;34m(self, key, default)\u001b[0m\n\u001b[1;32m    970\u001b[0m         \"\"\"\n\u001b[1;32m    971\u001b[0m         \u001b[0;32mtry\u001b[0m\u001b[0;34m:\u001b[0m\u001b[0;34m\u001b[0m\u001b[0m\n\u001b[0;32m--> 972\u001b[0;31m             \u001b[0;32mreturn\u001b[0m \u001b[0mself\u001b[0m\u001b[0;34m[\u001b[0m\u001b[0mkey\u001b[0m\u001b[0;34m]\u001b[0m\u001b[0;34m\u001b[0m\u001b[0m\n\u001b[0m\u001b[1;32m    973\u001b[0m         \u001b[0;32mexcept\u001b[0m \u001b[0mKeyError\u001b[0m\u001b[0;34m:\u001b[0m\u001b[0;34m\u001b[0m\u001b[0m\n\u001b[1;32m    974\u001b[0m             \u001b[0;32mreturn\u001b[0m \u001b[0mdefault\u001b[0m\u001b[0;34m\u001b[0m\u001b[0m\n",
      "\u001b[0;32m/Users/wesm/anaconda/envs/openCV/lib/python2.7/site-packages/pandas/core/frame.pyc\u001b[0m in \u001b[0;36m__getitem__\u001b[0;34m(self, key)\u001b[0m\n\u001b[1;32m   1633\u001b[0m             \u001b[0;32mreturn\u001b[0m \u001b[0mself\u001b[0m\u001b[0;34m.\u001b[0m\u001b[0m_getitem_multilevel\u001b[0m\u001b[0;34m(\u001b[0m\u001b[0mkey\u001b[0m\u001b[0;34m)\u001b[0m\u001b[0;34m\u001b[0m\u001b[0m\n\u001b[1;32m   1634\u001b[0m         \u001b[0;32melse\u001b[0m\u001b[0;34m:\u001b[0m\u001b[0;34m\u001b[0m\u001b[0m\n\u001b[0;32m-> 1635\u001b[0;31m             \u001b[0;32mreturn\u001b[0m \u001b[0mself\u001b[0m\u001b[0;34m.\u001b[0m\u001b[0m_getitem_column\u001b[0m\u001b[0;34m(\u001b[0m\u001b[0mkey\u001b[0m\u001b[0;34m)\u001b[0m\u001b[0;34m\u001b[0m\u001b[0m\n\u001b[0m\u001b[1;32m   1636\u001b[0m \u001b[0;34m\u001b[0m\u001b[0m\n\u001b[1;32m   1637\u001b[0m     \u001b[0;32mdef\u001b[0m \u001b[0m_getitem_column\u001b[0m\u001b[0;34m(\u001b[0m\u001b[0mself\u001b[0m\u001b[0;34m,\u001b[0m \u001b[0mkey\u001b[0m\u001b[0;34m)\u001b[0m\u001b[0;34m:\u001b[0m\u001b[0;34m\u001b[0m\u001b[0m\n",
      "\u001b[0;32m/Users/wesm/anaconda/envs/openCV/lib/python2.7/site-packages/pandas/core/frame.pyc\u001b[0m in \u001b[0;36m_getitem_column\u001b[0;34m(self, key)\u001b[0m\n\u001b[1;32m   1640\u001b[0m         \u001b[0;31m# get column\u001b[0m\u001b[0;34m\u001b[0m\u001b[0;34m\u001b[0m\u001b[0m\n\u001b[1;32m   1641\u001b[0m         \u001b[0;32mif\u001b[0m \u001b[0mself\u001b[0m\u001b[0;34m.\u001b[0m\u001b[0mcolumns\u001b[0m\u001b[0;34m.\u001b[0m\u001b[0mis_unique\u001b[0m\u001b[0;34m:\u001b[0m\u001b[0;34m\u001b[0m\u001b[0m\n\u001b[0;32m-> 1642\u001b[0;31m             \u001b[0;32mreturn\u001b[0m \u001b[0mself\u001b[0m\u001b[0;34m.\u001b[0m\u001b[0m_get_item_cache\u001b[0m\u001b[0;34m(\u001b[0m\u001b[0mkey\u001b[0m\u001b[0;34m)\u001b[0m\u001b[0;34m\u001b[0m\u001b[0m\n\u001b[0m\u001b[1;32m   1643\u001b[0m \u001b[0;34m\u001b[0m\u001b[0m\n\u001b[1;32m   1644\u001b[0m         \u001b[0;31m# duplicate columns & possible reduce dimensionaility\u001b[0m\u001b[0;34m\u001b[0m\u001b[0;34m\u001b[0m\u001b[0m\n",
      "\u001b[0;32m/Users/wesm/anaconda/envs/openCV/lib/python2.7/site-packages/pandas/core/generic.pyc\u001b[0m in \u001b[0;36m_get_item_cache\u001b[0;34m(self, item)\u001b[0m\n\u001b[1;32m    981\u001b[0m         \u001b[0mres\u001b[0m \u001b[0;34m=\u001b[0m \u001b[0mcache\u001b[0m\u001b[0;34m.\u001b[0m\u001b[0mget\u001b[0m\u001b[0;34m(\u001b[0m\u001b[0mitem\u001b[0m\u001b[0;34m)\u001b[0m\u001b[0;34m\u001b[0m\u001b[0m\n\u001b[1;32m    982\u001b[0m         \u001b[0;32mif\u001b[0m \u001b[0mres\u001b[0m \u001b[0;32mis\u001b[0m \u001b[0mNone\u001b[0m\u001b[0;34m:\u001b[0m\u001b[0;34m\u001b[0m\u001b[0m\n\u001b[0;32m--> 983\u001b[0;31m             \u001b[0mvalues\u001b[0m \u001b[0;34m=\u001b[0m \u001b[0mself\u001b[0m\u001b[0;34m.\u001b[0m\u001b[0m_data\u001b[0m\u001b[0;34m.\u001b[0m\u001b[0mget\u001b[0m\u001b[0;34m(\u001b[0m\u001b[0mitem\u001b[0m\u001b[0;34m)\u001b[0m\u001b[0;34m\u001b[0m\u001b[0m\n\u001b[0m\u001b[1;32m    984\u001b[0m             \u001b[0mres\u001b[0m \u001b[0;34m=\u001b[0m \u001b[0mself\u001b[0m\u001b[0;34m.\u001b[0m\u001b[0m_box_item_values\u001b[0m\u001b[0;34m(\u001b[0m\u001b[0mitem\u001b[0m\u001b[0;34m,\u001b[0m \u001b[0mvalues\u001b[0m\u001b[0;34m)\u001b[0m\u001b[0;34m\u001b[0m\u001b[0m\n\u001b[1;32m    985\u001b[0m             \u001b[0mcache\u001b[0m\u001b[0;34m[\u001b[0m\u001b[0mitem\u001b[0m\u001b[0;34m]\u001b[0m \u001b[0;34m=\u001b[0m \u001b[0mres\u001b[0m\u001b[0;34m\u001b[0m\u001b[0m\n",
      "\u001b[0;32m/Users/wesm/anaconda/envs/openCV/lib/python2.7/site-packages/pandas/core/internals.pyc\u001b[0m in \u001b[0;36mget\u001b[0;34m(self, item)\u001b[0m\n\u001b[1;32m   2750\u001b[0m             \u001b[0;32mif\u001b[0m \u001b[0misnull\u001b[0m\u001b[0;34m(\u001b[0m\u001b[0mitem\u001b[0m\u001b[0;34m)\u001b[0m\u001b[0;34m:\u001b[0m\u001b[0;34m\u001b[0m\u001b[0m\n\u001b[1;32m   2751\u001b[0m                 \u001b[0mindexer\u001b[0m \u001b[0;34m=\u001b[0m \u001b[0mnp\u001b[0m\u001b[0;34m.\u001b[0m\u001b[0marange\u001b[0m\u001b[0;34m(\u001b[0m\u001b[0mlen\u001b[0m\u001b[0;34m(\u001b[0m\u001b[0mself\u001b[0m\u001b[0;34m.\u001b[0m\u001b[0mitems\u001b[0m\u001b[0;34m)\u001b[0m\u001b[0;34m)\u001b[0m\u001b[0;34m[\u001b[0m\u001b[0misnull\u001b[0m\u001b[0;34m(\u001b[0m\u001b[0mself\u001b[0m\u001b[0;34m.\u001b[0m\u001b[0mitems\u001b[0m\u001b[0;34m)\u001b[0m\u001b[0;34m]\u001b[0m\u001b[0;34m\u001b[0m\u001b[0m\n\u001b[0;32m-> 2752\u001b[0;31m                 \u001b[0;32mreturn\u001b[0m \u001b[0mself\u001b[0m\u001b[0;34m.\u001b[0m\u001b[0mget_for_nan_indexer\u001b[0m\u001b[0;34m(\u001b[0m\u001b[0mindexer\u001b[0m\u001b[0;34m)\u001b[0m\u001b[0;34m\u001b[0m\u001b[0m\n\u001b[0m\u001b[1;32m   2753\u001b[0m \u001b[0;34m\u001b[0m\u001b[0m\n\u001b[1;32m   2754\u001b[0m             \u001b[0m_\u001b[0m\u001b[0;34m,\u001b[0m \u001b[0mblock\u001b[0m \u001b[0;34m=\u001b[0m \u001b[0mself\u001b[0m\u001b[0;34m.\u001b[0m\u001b[0m_find_block\u001b[0m\u001b[0;34m(\u001b[0m\u001b[0mitem\u001b[0m\u001b[0;34m)\u001b[0m\u001b[0;34m\u001b[0m\u001b[0m\n",
      "\u001b[0;32m/Users/wesm/anaconda/envs/openCV/lib/python2.7/site-packages/pandas/core/internals.pyc\u001b[0m in \u001b[0;36mget_for_nan_indexer\u001b[0;34m(self, indexer)\u001b[0m\n\u001b[1;32m   2802\u001b[0m                 \u001b[0mindexer\u001b[0m \u001b[0;34m=\u001b[0m \u001b[0mindexer\u001b[0m\u001b[0;34m.\u001b[0m\u001b[0mitem\u001b[0m\u001b[0;34m(\u001b[0m\u001b[0;34m)\u001b[0m\u001b[0;34m\u001b[0m\u001b[0m\n\u001b[1;32m   2803\u001b[0m             \u001b[0;32melse\u001b[0m\u001b[0;34m:\u001b[0m\u001b[0;34m\u001b[0m\u001b[0m\n\u001b[0;32m-> 2804\u001b[0;31m                 \u001b[0;32mraise\u001b[0m \u001b[0mValueError\u001b[0m\u001b[0;34m(\u001b[0m\u001b[0;34m\"cannot label index with a null key\"\u001b[0m\u001b[0;34m)\u001b[0m\u001b[0;34m\u001b[0m\u001b[0m\n\u001b[0m\u001b[1;32m   2805\u001b[0m \u001b[0;34m\u001b[0m\u001b[0m\n\u001b[1;32m   2806\u001b[0m         \u001b[0;31m# take a nan indexer and return the values\u001b[0m\u001b[0;34m\u001b[0m\u001b[0;34m\u001b[0m\u001b[0m\n",
      "\u001b[0;31mValueError\u001b[0m: cannot label index with a null key"
     ]
    }
   ],
   "source": [
    "import seaborn as sns\n",
    "sns.set_style(\"whitegrid\")\n",
    "ax = sns.pointplot(x=\"likes\", y=\"rating\",data=df)\n",
    "sns.plt.show()"
   ]
  },
  {
   "cell_type": "code",
   "execution_count": null,
   "metadata": {
    "collapsed": false
   },
   "outputs": [],
   "source": [
    "import seaborn as sns\n",
    "sns.set_style(\"whitegrid\")\n",
    "tips = sns.load_dataset(\"tips\")\n",
    "print tips\n",
    "ax = sns.pointplot(x=\"time\", y=\"total_bill\", data=tips)\n",
    "sns.plt.show()"
   ]
  },
  {
   "cell_type": "markdown",
   "metadata": {},
   "source": [
    "### Future Improvements \n",
    "- Run the above graph a number of times, take the average for each cell\n",
    "- Based on the heaviest weighted parameters for each, run the random forest algorithm only taking these given parameters into consideration\n",
    "- Generate a model that classifies videos dynamically\n",
    "- Make more values ordinal - maybe to NLP or LDA to factor in descriptions, titles and lyrics"
   ]
  },
  {
   "cell_type": "code",
   "execution_count": null,
   "metadata": {
    "collapsed": true
   },
   "outputs": [],
   "source": []
  },
  {
   "cell_type": "code",
   "execution_count": null,
   "metadata": {
    "collapsed": true
   },
   "outputs": [],
   "source": []
  }
 ],
 "metadata": {
  "anaconda-cloud": {},
  "kernelspec": {
   "display_name": "Python [conda env:openCV]",
   "language": "python",
   "name": "conda-env-openCV-py"
  },
  "language_info": {
   "codemirror_mode": {
    "name": "ipython",
    "version": 2
   },
   "file_extension": ".py",
   "mimetype": "text/x-python",
   "name": "python",
   "nbconvert_exporter": "python",
   "pygments_lexer": "ipython2",
   "version": "2.7.12"
  }
 },
 "nbformat": 4,
 "nbformat_minor": 0
}
