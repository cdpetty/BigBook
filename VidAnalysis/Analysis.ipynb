{
 "cells": [
  {
   "cell_type": "code",
   "execution_count": 1,
   "metadata": {
    "collapsed": true
   },
   "outputs": [],
   "source": [
    "def gen_new_headers(old_headers):\n",
    "    headers = ['colors_' + str(x+1) + '_' for x in range(10)]\n",
    "    h = []\n",
    "    for x in headers:\n",
    "        h.append(x + 'red')\n",
    "        h.append(x + 'blue')\n",
    "        h.append(x + 'green')\n",
    "    return old_headers + h + ['genre']"
   ]
  },
  {
   "cell_type": "code",
   "execution_count": null,
   "metadata": {
    "collapsed": false
   },
   "outputs": [],
   "source": [
    "from analyzer import get_mode_colors\n",
    "import pandas as pd\n",
    "from os import listdir,fsync\n",
    "import csv\n",
    "import time\n",
    "\n",
    "# this function is needed because of mismatch between file system videos and\n",
    "# md csv information\n",
    "def get_file_names_from_md_csv(genre):\n",
    "    meta_csv_file = open('../Videos2/metadata/' + genre + '2_md.csv', 'r')\n",
    "    meta_csv = csv.reader(meta_csv_file)\n",
    "    meta_csv.next()  # header line\n",
    "    file_names = []\n",
    "    for row in meta_csv:\n",
    "        file_names.append(row[1])\n",
    "    return file_names\n",
    "\n",
    "time.sleep(30*60)\n",
    "genres = ['country', 'pop', 'rap', 'rock']\n",
    "for genre in genres:\n",
    "    directory = '../Videos2/compressed_' + genre    \n",
    "    meta_csv_file = open('../Videos2/metadata/' + genre + '2_md.csv', 'r')\n",
    "    meta_csv = csv.reader(meta_csv_file)\n",
    "    new_csv_file = open('../Videos2/all_data/' + genre + '_all.csv', 'w')\n",
    "    new_csv = csv.writer(new_csv_file)\n",
    "    \n",
    "    old_headers = meta_csv.next()\n",
    "    new_headers = gen_new_headers(old_headers)\n",
    "    \n",
    "    new_csv.writerow(new_headers)\n",
    "    \n",
    "    vid_files = listdir(directory)\n",
    "    md_files = get_file_names_from_md_csv(genre)\n",
    "\n",
    "    for file_name in md_files:\n",
    "        print file_name\n",
    "        if file_name in vid_files:  # if false, the video does not exist\n",
    "            try:\n",
    "                color = get_mode_colors(directory + '/' + file_name)\n",
    "                color = map(str, map(int, color))\n",
    "                new_row = meta_csv.next() + color + [genre]\n",
    "                print ''\n",
    "                print str(file_name)\n",
    "                print new_row\n",
    "                # write the file as we go to avoid losing data\n",
    "                new_csv.writerow(new_row)\n",
    "                new_csv_file.flush()\n",
    "                fsync(new_csv_file.fileno())\n",
    "                time.sleep(1)\n",
    "                x += 1\n",
    "            except:\n",
    "                print \"probably caught a black and white video\"\n",
    "        else:\n",
    "            print file_name\n",
    "    new_csv_file.close()\n",
    "    meta_csv_file.close()\n",
    "    time.sleep(60*30)"
   ]
  },
  {
   "cell_type": "code",
   "execution_count": null,
   "metadata": {
    "collapsed": true
   },
   "outputs": [],
   "source": []
  }
 ],
 "metadata": {
  "anaconda-cloud": {},
  "kernelspec": {
   "display_name": "Python [conda env:openCV]",
   "language": "python",
   "name": "conda-env-openCV-py"
  },
  "language_info": {
   "codemirror_mode": {
    "name": "ipython",
    "version": 2
   },
   "file_extension": ".py",
   "mimetype": "text/x-python",
   "name": "python",
   "nbconvert_exporter": "python",
   "pygments_lexer": "ipython2",
   "version": "2.7.12"
  }
 },
 "nbformat": 4,
 "nbformat_minor": 0
}
