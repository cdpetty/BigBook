{
 "cells": [
  {
   "cell_type": "code",
   "execution_count": 1,
   "metadata": {
    "collapsed": false
   },
   "outputs": [
    {
     "data": {
      "text/html": [
       "<div style=\"max-height:1000px;max-width:1500px;overflow:auto;\">\n",
       "<table border=\"1\" class=\"dataframe\">\n",
       "  <thead>\n",
       "    <tr style=\"text-align: right;\">\n",
       "      <th></th>\n",
       "      <th>Link</th>\n",
       "      <th>URL</th>\n",
       "    </tr>\n",
       "  </thead>\n",
       "  <tbody>\n",
       "    <tr>\n",
       "      <th>0</th>\n",
       "      <td>               Luke Bryan - Roller Coaster     </td>\n",
       "      <td> /watch?v=AxVKTwAkv1k&amp;list=PLloWh84LsMNDqBj61Kk...</td>\n",
       "    </tr>\n",
       "    <tr>\n",
       "      <th>1</th>\n",
       "      <td>         Dierks Bentley - Drunk On A Plane     </td>\n",
       "      <td> /watch?v=QrM39m22jH4&amp;list=PLloWh84LsMNDqBj61Kk...</td>\n",
       "    </tr>\n",
       "    <tr>\n",
       "      <th>2</th>\n",
       "      <td>        Thomas Rhett - Get Me Some Of That     </td>\n",
       "      <td> /watch?v=gq2ZJ418ad8&amp;list=PLloWh84LsMNDqBj61Kk...</td>\n",
       "    </tr>\n",
       "    <tr>\n",
       "      <th>3</th>\n",
       "      <td>           David Nail - Whatever She's Got     </td>\n",
       "      <td> /watch?v=o1C3mVUkAt8&amp;list=PLloWh84LsMNDqBj61Kk...</td>\n",
       "    </tr>\n",
       "    <tr>\n",
       "      <th>4</th>\n",
       "      <td>                        Joe Nichols - Yeah     </td>\n",
       "      <td> /watch?v=x5XvT8NMI8g&amp;list=PLloWh84LsMNDqBj61Kk...</td>\n",
       "    </tr>\n",
       "  </tbody>\n",
       "</table>\n",
       "<p>5 rows × 2 columns</p>\n",
       "</div>"
      ],
      "text/plain": [
       "                                             Link  \\\n",
       "0                Luke Bryan - Roller Coaster        \n",
       "1          Dierks Bentley - Drunk On A Plane        \n",
       "2         Thomas Rhett - Get Me Some Of That        \n",
       "3            David Nail - Whatever She's Got        \n",
       "4                         Joe Nichols - Yeah        \n",
       "\n",
       "                                                 URL  \n",
       "0  /watch?v=AxVKTwAkv1k&list=PLloWh84LsMNDqBj61Kk...  \n",
       "1  /watch?v=QrM39m22jH4&list=PLloWh84LsMNDqBj61Kk...  \n",
       "2  /watch?v=gq2ZJ418ad8&list=PLloWh84LsMNDqBj61Kk...  \n",
       "3  /watch?v=o1C3mVUkAt8&list=PLloWh84LsMNDqBj61Kk...  \n",
       "4  /watch?v=x5XvT8NMI8g&list=PLloWh84LsMNDqBj61Kk...  \n",
       "\n",
       "[5 rows x 2 columns]"
      ]
     },
     "execution_count": 1,
     "metadata": {},
     "output_type": "execute_result"
    }
   ],
   "source": [
    "import pandas as pd\n",
    "from os import path\n",
    "\n",
    "# Edit path if need be (shouldn't need to b/c we all have the same folder structure)\n",
    "CSV_PATH = '../VidScrape/'\n",
    "GENRES = ['country', 'edm', 'pop', 'rap', 'rock']\n",
    "\n",
    "# Containers for the data frames\n",
    "genre_dfs = {}\n",
    "all_genres = None\n",
    "\n",
    "\n",
    "# Read in the 5 genre's of CV's\n",
    "for genre in GENRES:\n",
    "    genre_csv_path = path.join(CSV_PATH, genre) + '.csv'\n",
    "    genre_dfs[genre] = pd.read_csv(genre_csv_path)\n",
    "\n",
    "all_genres = pd.concat(genre_dfs.values())\n",
    "all_genres.head()\n",
    "\n",
    "# genre_dfs is now a dictionary that contains the 5 different data frames\n",
    "# all_genres is a dataframe that contains all of the data"
   ]
  },
  {
   "cell_type": "code",
   "execution_count": 2,
   "metadata": {
    "collapsed": false
   },
   "outputs": [
    {
     "name": "stdout",
     "output_type": "stream",
     "text": [
      "here\n",
      "[0.0092066498316498175, 0.0078388047138047163, 0.012047558922558925, 82.102917192760955, 82.253972011784526, 81.012889309764319, 66.25599747474746, 66.215619739057203, 71.051925505050505, 56.537194865319861, 56.628972011784519, 55.641690340909086, 50.077020202020186, 49.356363110269342, 49.37893255471382, 84.234624894781163, 84.266637731481467, 84.108349116161619, 57.780171506733986, 57.795020517676789, 58.803714225589211, 113.39411037457914, 113.47010469276097, 113.34923453282825, 94.42647832491582, 88.926281039562298, 91.754734848484858, 66.021964436026977, 65.820588699494962, 65.440577651515142]\n",
      "[179.16665292245384, 48.55202618634258, 59.129765263310162, 33.405372178819441, 33.311817491319438, 33.282583550347219, 112.17769024884258, 111.82156720196758, 112.23302987557871, 41.288304398148121, 42.10381438078705, 42.167280092592591, 42.378521050347217, 59.478454861111125, 59.594633969907356, 58.39028935185187, 58.334707031250026, 64.059859302662062, 47.504669053819434, 48.719448784722282, 48.83365776909725, 84.739590567129639, 85.277258391203745, 85.953566984953696, 47.335008680555511, 48.532683376736053, 48.616442057291671, 141.72623987268528, 141.92012803819446, 142.6890809461805]\n"
     ]
    }
   ],
   "source": [
    "from analyzer import get_avg_colors\n",
    "import pandas as pd\n",
    "from os import listdir\n",
    "\n",
    "video_dirs = ['country_vids','edm_vids','pop_vids','rap_vids','rock_vids']\n",
    "\n",
    "vid_dir = 'country_vids'\n",
    "directory = '../VidScrape/' + vid_dir\n",
    "vid_files = listdir(directory)\n",
    "avg_colors = []\n",
    "x = 0\n",
    "print 'here'\n",
    "for vid in vid_files:\n",
    "    if (x > 1):\n",
    "        break\n",
    "    color = get_avg_colors(directory + '/' + vid)\n",
    "    print color\n",
    "    avg_colors.append(color)\n",
    "    x += 1"
   ]
  },
  {
   "cell_type": "code",
   "execution_count": 5,
   "metadata": {
    "collapsed": false
   },
   "outputs": [
    {
     "data": {
      "text/html": [
       "<div style=\"max-height:1000px;max-width:1500px;overflow:auto;\">\n",
       "<table border=\"1\" class=\"dataframe\">\n",
       "  <thead>\n",
       "    <tr style=\"text-align: right;\">\n",
       "      <th></th>\n",
       "      <th>Unnamed: 0</th>\n",
       "      <th>filename</th>\n",
       "      <th>author</th>\n",
       "      <th>description</th>\n",
       "      <th>viewcount</th>\n",
       "      <th>rating</th>\n",
       "      <th>likes</th>\n",
       "      <th>dislikes</th>\n",
       "      <th>duration</th>\n",
       "      <th>length</th>\n",
       "      <th>keywords</th>\n",
       "      <th>published</th>\n",
       "    </tr>\n",
       "  </thead>\n",
       "  <tbody>\n",
       "    <tr>\n",
       "      <th>0</th>\n",
       "      <td> 0</td>\n",
       "      <td>        Luke Bryan - Roller Coaster.mp4</td>\n",
       "      <td>     LukeBryanVEVO</td>\n",
       "      <td> Luke Bryan - Crash My Party\\nPurchase now on i...</td>\n",
       "      <td> 28948653</td>\n",
       "      <td> 4.840108</td>\n",
       "      <td> 127866</td>\n",
       "      <td> 5324</td>\n",
       "      <td> 00:04:23</td>\n",
       "      <td> 263</td>\n",
       "      <td> [Luke, Bryan, Roller, Coaster, Capitol, Record...</td>\n",
       "      <td> 2014-06-21 11:00:03</td>\n",
       "    </tr>\n",
       "    <tr>\n",
       "      <th>1</th>\n",
       "      <td> 1</td>\n",
       "      <td>  Dierks Bentley - Drunk On A Plane.mp4</td>\n",
       "      <td> DierksBentleyVEVO</td>\n",
       "      <td> Purchase Dierks Bentley’s latest music: http:/...</td>\n",
       "      <td> 41548786</td>\n",
       "      <td> 4.763639</td>\n",
       "      <td> 140682</td>\n",
       "      <td> 8835</td>\n",
       "      <td> 00:04:51</td>\n",
       "      <td> 291</td>\n",
       "      <td> [Dierks, Bentley, Drunk, On, Plane, Capitol, R...</td>\n",
       "      <td> 2014-05-13 20:16:23</td>\n",
       "    </tr>\n",
       "    <tr>\n",
       "      <th>2</th>\n",
       "      <td> 2</td>\n",
       "      <td> Thomas Rhett - Get Me Some Of That.mp4</td>\n",
       "      <td>   ThomasRhettVEVO</td>\n",
       "      <td> Music video by Thomas Rhett performing Get Me ...</td>\n",
       "      <td> 43868160</td>\n",
       "      <td> 4.826069</td>\n",
       "      <td> 128488</td>\n",
       "      <td> 5841</td>\n",
       "      <td> 00:03:13</td>\n",
       "      <td> 193</td>\n",
       "      <td> [Thomas, Rhett, Get, Me, Some, Of, That, The, ...</td>\n",
       "      <td> 2013-12-10 08:00:01</td>\n",
       "    </tr>\n",
       "    <tr>\n",
       "      <th>3</th>\n",
       "      <td> 3</td>\n",
       "      <td>    David Nail - Whatever She's Got.mp4</td>\n",
       "      <td>     DavidNailVEVO</td>\n",
       "      <td> Purchase David Nail’s latest music: http://umg...</td>\n",
       "      <td> 48648247</td>\n",
       "      <td> 4.826632</td>\n",
       "      <td> 141108</td>\n",
       "      <td> 6393</td>\n",
       "      <td> 00:04:01</td>\n",
       "      <td> 241</td>\n",
       "      <td> [David, Nail, Whatever, She's, Got, MCA, Nashv...</td>\n",
       "      <td> 2013-07-16 07:00:15</td>\n",
       "    </tr>\n",
       "    <tr>\n",
       "      <th>4</th>\n",
       "      <td> 4</td>\n",
       "      <td>                 Joe Nichols - Yeah.mp4</td>\n",
       "      <td>    JoeNicholsVEVO</td>\n",
       "      <td> Joe Nichols - Yeah\\n“Yeah” from Joe Nichol’s C...</td>\n",
       "      <td> 11397694</td>\n",
       "      <td> 4.815725</td>\n",
       "      <td>  33255</td>\n",
       "      <td> 1606</td>\n",
       "      <td> 00:03:52</td>\n",
       "      <td> 232</td>\n",
       "      <td>     [Joe Nichols, Red Bow Records, Country, Yeah]</td>\n",
       "      <td> 2014-05-27 07:00:01</td>\n",
       "    </tr>\n",
       "  </tbody>\n",
       "</table>\n",
       "<p>5 rows × 12 columns</p>\n",
       "</div>"
      ],
      "text/plain": [
       "   Unnamed: 0                                filename             author  \\\n",
       "0           0         Luke Bryan - Roller Coaster.mp4      LukeBryanVEVO   \n",
       "1           1   Dierks Bentley - Drunk On A Plane.mp4  DierksBentleyVEVO   \n",
       "2           2  Thomas Rhett - Get Me Some Of That.mp4    ThomasRhettVEVO   \n",
       "3           3     David Nail - Whatever She's Got.mp4      DavidNailVEVO   \n",
       "4           4                  Joe Nichols - Yeah.mp4     JoeNicholsVEVO   \n",
       "\n",
       "                                         description  viewcount    rating  \\\n",
       "0  Luke Bryan - Crash My Party\\nPurchase now on i...   28948653  4.840108   \n",
       "1  Purchase Dierks Bentley’s latest music: http:/...   41548786  4.763639   \n",
       "2  Music video by Thomas Rhett performing Get Me ...   43868160  4.826069   \n",
       "3  Purchase David Nail’s latest music: http://umg...   48648247  4.826632   \n",
       "4  Joe Nichols - Yeah\\n“Yeah” from Joe Nichol’s C...   11397694  4.815725   \n",
       "\n",
       "    likes  dislikes  duration  length  \\\n",
       "0  127866      5324  00:04:23     263   \n",
       "1  140682      8835  00:04:51     291   \n",
       "2  128488      5841  00:03:13     193   \n",
       "3  141108      6393  00:04:01     241   \n",
       "4   33255      1606  00:03:52     232   \n",
       "\n",
       "                                            keywords            published  \n",
       "0  [Luke, Bryan, Roller, Coaster, Capitol, Record...  2014-06-21 11:00:03  \n",
       "1  [Dierks, Bentley, Drunk, On, Plane, Capitol, R...  2014-05-13 20:16:23  \n",
       "2  [Thomas, Rhett, Get, Me, Some, Of, That, The, ...  2013-12-10 08:00:01  \n",
       "3  [David, Nail, Whatever, She's, Got, MCA, Nashv...  2013-07-16 07:00:15  \n",
       "4      [Joe Nichols, Red Bow Records, Country, Yeah]  2014-05-27 07:00:01  \n",
       "\n",
       "[5 rows x 12 columns]"
      ]
     },
     "execution_count": 5,
     "metadata": {},
     "output_type": "execute_result"
    }
   ],
   "source": [
    "df = pd.read_csv('../VidScrape/metadata/country_md.csv')\n",
    "df.head()"
   ]
  },
  {
   "cell_type": "code",
   "execution_count": 8,
   "metadata": {
    "collapsed": false
   },
   "outputs": [
    {
     "data": {
      "text/plain": [
       "['name',\n",
       " 'colors1red',\n",
       " 'colors1blue',\n",
       " 'colors1green',\n",
       " 'colors2red',\n",
       " 'colors2blue',\n",
       " 'colors2green',\n",
       " 'colors3red',\n",
       " 'colors3blue',\n",
       " 'colors3green',\n",
       " 'colors4red',\n",
       " 'colors4blue',\n",
       " 'colors4green',\n",
       " 'colors5red',\n",
       " 'colors5blue',\n",
       " 'colors5green',\n",
       " 'colors6red',\n",
       " 'colors6blue',\n",
       " 'colors6green',\n",
       " 'colors7red',\n",
       " 'colors7blue',\n",
       " 'colors7green',\n",
       " 'colors8red',\n",
       " 'colors8blue',\n",
       " 'colors8green',\n",
       " 'colors9red',\n",
       " 'colors9blue',\n",
       " 'colors9green',\n",
       " 'colors10red',\n",
       " 'colors10blue',\n",
       " 'colors10green']"
      ]
     },
     "execution_count": 8,
     "metadata": {},
     "output_type": "execute_result"
    }
   ],
   "source": [
    "headers = ['colors' + str(x+1) for x in range(10)]\n",
    "h = []\n",
    "for x in headers:\n",
    "    h.append(x + 'red')\n",
    "    h.append(x + 'blue')\n",
    "    h.append(x + 'green')\n",
    "cols = ['name'] + h\n",
    "cols"
   ]
  },
  {
   "cell_type": "code",
   "execution_count": 13,
   "metadata": {
    "collapsed": false
   },
   "outputs": [
    {
     "ename": "SyntaxError",
     "evalue": "invalid syntax (<ipython-input-13-52b11eadea77>, line 1)",
     "output_type": "error",
     "traceback": [
      "\u001b[0;36m  File \u001b[0;32m\"<ipython-input-13-52b11eadea77>\"\u001b[0;36m, line \u001b[0;32m1\u001b[0m\n\u001b[0;31m    for i in range((len(name)):\u001b[0m\n\u001b[0m                              ^\u001b[0m\n\u001b[0;31mSyntaxError\u001b[0m\u001b[0;31m:\u001b[0m invalid syntax\n"
     ]
    }
   ],
   "source": [
    "for i in range((len(name)):\n",
    "    for j in range((len(avg_colors)):\n",
    "    df[name] = avg_colors[i]"
   ]
  },
  {
   "cell_type": "code",
   "execution_count": null,
   "metadata": {
    "collapsed": true
   },
   "outputs": [],
   "source": []
  }
 ],
 "metadata": {
  "anaconda-cloud": {},
  "kernelspec": {
   "display_name": "Python [conda env:openCV]",
   "language": "python",
   "name": "conda-env-openCV-py"
  },
  "language_info": {
   "codemirror_mode": {
    "name": "ipython",
    "version": 2
   },
   "file_extension": ".py",
   "mimetype": "text/x-python",
   "name": "python",
   "nbconvert_exporter": "python",
   "pygments_lexer": "ipython2",
   "version": "2.7.12"
  }
 },
 "nbformat": 4,
 "nbformat_minor": 0
}
