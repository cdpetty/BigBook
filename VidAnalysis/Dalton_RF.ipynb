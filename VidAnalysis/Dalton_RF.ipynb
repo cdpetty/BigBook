{
 "cells": [
  {
   "cell_type": "markdown",
   "metadata": {},
   "source": [
    "### Data Collection"
   ]
  },
  {
   "cell_type": "code",
   "execution_count": 98,
   "metadata": {
    "collapsed": false
   },
   "outputs": [
    {
     "data": {
      "text/html": [
       "<div>\n",
       "<table border=\"1\" class=\"dataframe\">\n",
       "  <thead>\n",
       "    <tr style=\"text-align: right;\">\n",
       "      <th></th>\n",
       "      <th>filename</th>\n",
       "      <th>author</th>\n",
       "      <th>description</th>\n",
       "      <th>viewcount</th>\n",
       "      <th>rating</th>\n",
       "      <th>likes</th>\n",
       "      <th>dislikes</th>\n",
       "      <th>duration</th>\n",
       "      <th>length</th>\n",
       "      <th>keywords</th>\n",
       "      <th>...</th>\n",
       "      <th>colors_8_red</th>\n",
       "      <th>colors_8_blue</th>\n",
       "      <th>colors_8_green</th>\n",
       "      <th>colors_9_red</th>\n",
       "      <th>colors_9_blue</th>\n",
       "      <th>colors_9_green</th>\n",
       "      <th>colors_10_red</th>\n",
       "      <th>colors_10_blue</th>\n",
       "      <th>colors_10_green</th>\n",
       "      <th>genre</th>\n",
       "    </tr>\n",
       "  </thead>\n",
       "  <tbody>\n",
       "    <tr>\n",
       "      <th>0</th>\n",
       "      <td>Luke Bryan - Roller Coaster.mp4</td>\n",
       "      <td>LukeBryanVEVO</td>\n",
       "      <td>Luke Bryan - Crash My Party\\nPurchase now on i...</td>\n",
       "      <td>28948653</td>\n",
       "      <td>4.840108</td>\n",
       "      <td>127866</td>\n",
       "      <td>5324</td>\n",
       "      <td>00:04:23</td>\n",
       "      <td>263</td>\n",
       "      <td>[Luke, Bryan, Roller, Coaster, Capitol, Record...</td>\n",
       "      <td>...</td>\n",
       "      <td>230</td>\n",
       "      <td>210</td>\n",
       "      <td>190</td>\n",
       "      <td>90</td>\n",
       "      <td>70</td>\n",
       "      <td>70</td>\n",
       "      <td>240</td>\n",
       "      <td>220</td>\n",
       "      <td>200</td>\n",
       "      <td>country</td>\n",
       "    </tr>\n",
       "    <tr>\n",
       "      <th>1</th>\n",
       "      <td>Dierks Bentley - Drunk On A Plane.mp4</td>\n",
       "      <td>DierksBentleyVEVO</td>\n",
       "      <td>Purchase Dierks Bentley’s latest music: http:/...</td>\n",
       "      <td>41548786</td>\n",
       "      <td>4.763639</td>\n",
       "      <td>140682</td>\n",
       "      <td>8835</td>\n",
       "      <td>00:04:51</td>\n",
       "      <td>291</td>\n",
       "      <td>[Dierks, Bentley, Drunk, On, Plane, Capitol, R...</td>\n",
       "      <td>...</td>\n",
       "      <td>70</td>\n",
       "      <td>50</td>\n",
       "      <td>50</td>\n",
       "      <td>100</td>\n",
       "      <td>110</td>\n",
       "      <td>120</td>\n",
       "      <td>90</td>\n",
       "      <td>70</td>\n",
       "      <td>70</td>\n",
       "      <td>country</td>\n",
       "    </tr>\n",
       "    <tr>\n",
       "      <th>2</th>\n",
       "      <td>Thomas Rhett - Get Me Some Of That.mp4</td>\n",
       "      <td>ThomasRhettVEVO</td>\n",
       "      <td>Music video by Thomas Rhett performing Get Me ...</td>\n",
       "      <td>43868160</td>\n",
       "      <td>4.826069</td>\n",
       "      <td>128488</td>\n",
       "      <td>5841</td>\n",
       "      <td>00:03:13</td>\n",
       "      <td>193</td>\n",
       "      <td>[Thomas, Rhett, Get, Me, Some, Of, That, The, ...</td>\n",
       "      <td>...</td>\n",
       "      <td>40</td>\n",
       "      <td>50</td>\n",
       "      <td>30</td>\n",
       "      <td>50</td>\n",
       "      <td>70</td>\n",
       "      <td>50</td>\n",
       "      <td>40</td>\n",
       "      <td>60</td>\n",
       "      <td>50</td>\n",
       "      <td>country</td>\n",
       "    </tr>\n",
       "    <tr>\n",
       "      <th>3</th>\n",
       "      <td>David Nail - Whatever She's Got.mp4</td>\n",
       "      <td>DavidNailVEVO</td>\n",
       "      <td>Purchase David Nail’s latest music: http://umg...</td>\n",
       "      <td>48648247</td>\n",
       "      <td>4.826632</td>\n",
       "      <td>141108</td>\n",
       "      <td>6393</td>\n",
       "      <td>00:04:01</td>\n",
       "      <td>241</td>\n",
       "      <td>[David, Nail, Whatever, She's, Got, MCA, Nashv...</td>\n",
       "      <td>...</td>\n",
       "      <td>60</td>\n",
       "      <td>50</td>\n",
       "      <td>30</td>\n",
       "      <td>60</td>\n",
       "      <td>40</td>\n",
       "      <td>30</td>\n",
       "      <td>70</td>\n",
       "      <td>60</td>\n",
       "      <td>50</td>\n",
       "      <td>country</td>\n",
       "    </tr>\n",
       "    <tr>\n",
       "      <th>4</th>\n",
       "      <td>Joe Nichols - Yeah.mp4</td>\n",
       "      <td>JoeNicholsVEVO</td>\n",
       "      <td>Joe Nichols - Yeah\\n“Yeah” from Joe Nichol’s C...</td>\n",
       "      <td>11397694</td>\n",
       "      <td>4.815725</td>\n",
       "      <td>33255</td>\n",
       "      <td>1606</td>\n",
       "      <td>00:03:52</td>\n",
       "      <td>232</td>\n",
       "      <td>[Joe Nichols, Red Bow Records, Country, Yeah]</td>\n",
       "      <td>...</td>\n",
       "      <td>30</td>\n",
       "      <td>50</td>\n",
       "      <td>50</td>\n",
       "      <td>20</td>\n",
       "      <td>40</td>\n",
       "      <td>60</td>\n",
       "      <td>20</td>\n",
       "      <td>30</td>\n",
       "      <td>50</td>\n",
       "      <td>country</td>\n",
       "    </tr>\n",
       "  </tbody>\n",
       "</table>\n",
       "<p>5 rows × 42 columns</p>\n",
       "</div>"
      ],
      "text/plain": [
       "                                 filename             author  \\\n",
       "0         Luke Bryan - Roller Coaster.mp4      LukeBryanVEVO   \n",
       "1   Dierks Bentley - Drunk On A Plane.mp4  DierksBentleyVEVO   \n",
       "2  Thomas Rhett - Get Me Some Of That.mp4    ThomasRhettVEVO   \n",
       "3     David Nail - Whatever She's Got.mp4      DavidNailVEVO   \n",
       "4                  Joe Nichols - Yeah.mp4     JoeNicholsVEVO   \n",
       "\n",
       "                                         description  viewcount    rating  \\\n",
       "0  Luke Bryan - Crash My Party\\nPurchase now on i...   28948653  4.840108   \n",
       "1  Purchase Dierks Bentley’s latest music: http:/...   41548786  4.763639   \n",
       "2  Music video by Thomas Rhett performing Get Me ...   43868160  4.826069   \n",
       "3  Purchase David Nail’s latest music: http://umg...   48648247  4.826632   \n",
       "4  Joe Nichols - Yeah\\n“Yeah” from Joe Nichol’s C...   11397694  4.815725   \n",
       "\n",
       "    likes  dislikes  duration  length  \\\n",
       "0  127866      5324  00:04:23     263   \n",
       "1  140682      8835  00:04:51     291   \n",
       "2  128488      5841  00:03:13     193   \n",
       "3  141108      6393  00:04:01     241   \n",
       "4   33255      1606  00:03:52     232   \n",
       "\n",
       "                                            keywords   ...    colors_8_red  \\\n",
       "0  [Luke, Bryan, Roller, Coaster, Capitol, Record...   ...             230   \n",
       "1  [Dierks, Bentley, Drunk, On, Plane, Capitol, R...   ...              70   \n",
       "2  [Thomas, Rhett, Get, Me, Some, Of, That, The, ...   ...              40   \n",
       "3  [David, Nail, Whatever, She's, Got, MCA, Nashv...   ...              60   \n",
       "4      [Joe Nichols, Red Bow Records, Country, Yeah]   ...              30   \n",
       "\n",
       "   colors_8_blue  colors_8_green  colors_9_red  colors_9_blue  colors_9_green  \\\n",
       "0            210             190            90             70              70   \n",
       "1             50              50           100            110             120   \n",
       "2             50              30            50             70              50   \n",
       "3             50              30            60             40              30   \n",
       "4             50              50            20             40              60   \n",
       "\n",
       "   colors_10_red  colors_10_blue  colors_10_green    genre  \n",
       "0            240             220              200  country  \n",
       "1             90              70               70  country  \n",
       "2             40              60               50  country  \n",
       "3             70              60               50  country  \n",
       "4             20              30               50  country  \n",
       "\n",
       "[5 rows x 42 columns]"
      ]
     },
     "execution_count": 98,
     "metadata": {},
     "output_type": "execute_result"
    }
   ],
   "source": [
    "import pandas as pd\n",
    "from os import path\n",
    "from sklearn.ensemble import RandomForestClassifier\n",
    "import numpy as np\n",
    "from sklearn.ensemble import ExtraTreesClassifier\n",
    "import sklearn\n",
    "\n",
    "# Edit path if need be (shouldn't need to b/c we all have the same folder structure)\n",
    "CSV_PATH_1 = '../Videos/all_data'\n",
    "CSV_PATH_2 = '../Videos2/all_data2'\n",
    "FILE_EXTENSION = '_all.csv'\n",
    "GENRES = ['country', 'edm', 'pop', 'rap', 'rock']\n",
    "\n",
    "# Containers for the data frames\n",
    "genre_dfs = {}\n",
    "all_genres = None\n",
    "\n",
    "# Read in the 5 genre's of CV's\n",
    "for genre in GENRES:\n",
    "    genre_csv_path_1 = path.join(CSV_PATH_1, genre) + FILE_EXTENSION\n",
    "    genre_csv_path_2 = path.join(CSV_PATH_2, genre) + FILE_EXTENSION\n",
    "    df_1 = pd.read_csv(genre_csv_path_1)\n",
    "    df_2 = pd.read_csv(genre_csv_path_2)\n",
    "    df_1 = df_1.drop('Unnamed: 0',1)\n",
    "    df_2 = df_2.drop('Unnamed: 0',1)\n",
    "    df_combined = pd.concat([df_1,df_2],ignore_index=True)\n",
    "    genre_dfs[genre] = df_combined\n",
    "\n",
    "all_genres = pd.concat(genre_dfs.values())\n",
    "all_genres.head()\n",
    "\n",
    "# genre_dfs is now a dictionary that contains the 5 different data frames\n",
    "# all_genres is a dataframe that contains all of the data"
   ]
  },
  {
   "cell_type": "markdown",
   "metadata": {},
   "source": [
    "### Ordinal Genres\n",
    "Below, we make the genres ordinal to fit in the random forest classifiers. We add a new column to our dataframe to do so, write a function to populate it, and run it across the dataframe."
   ]
  },
  {
   "cell_type": "code",
   "execution_count": 99,
   "metadata": {
    "collapsed": false
   },
   "outputs": [],
   "source": [
    "def genre_to_ordinal(genre_in):\n",
    "    if(genre_in == \"country\"):\n",
    "        return 0\n",
    "    elif(genre_in == \"pop\"):\n",
    "        return 1\n",
    "    elif(genre_in == \"rock\"):\n",
    "        return 2\n",
    "    elif(genre_in == \"edm\"):\n",
    "        return 3\n",
    "    elif(genre_in == \"rap\"):\n",
    "        return 4\n",
    "    else:\n",
    "        return genre_in\n",
    "    \n",
    "all_genres['genre_ordinal'] = all_genres.genre.apply(genre_to_ordinal)"
   ]
  },
  {
   "cell_type": "markdown",
   "metadata": {},
   "source": [
    "We add in some boolean genre classifiers to make our analysis more fine-grained. Rather than saying \"we predict this video is country with 50% confidence\", we could say \"we predict this video is not edm with 90% confidence\" and so on."
   ]
  },
  {
   "cell_type": "code",
   "execution_count": 100,
   "metadata": {
    "collapsed": true
   },
   "outputs": [],
   "source": [
    "# Adding is_country flag\n",
    "def is_country(genre_in):\n",
    "    if(genre_in == \"country\"):\n",
    "        return 1\n",
    "    else:\n",
    "        return 0\n",
    "    \n",
    "all_genres['is_country'] = all_genres.genre.apply(is_country)\n",
    "\n",
    "# Adding is_country flag\n",
    "def is_rock(genre_in):\n",
    "    if(genre_in == \"rock\"):\n",
    "        return 1\n",
    "    else:\n",
    "        return 0\n",
    "    \n",
    "all_genres['is_rock'] = all_genres.genre.apply(is_rock)\n",
    "\n",
    "# Adding is_edm flag\n",
    "def is_edm(genre_in):\n",
    "    if(genre_in == \"edm\"):\n",
    "        return 1\n",
    "    else:\n",
    "        return 0\n",
    "    \n",
    "all_genres['is_edm'] = all_genres.genre.apply(is_edm)\n",
    "\n",
    "# Adding is_rap flag\n",
    "def is_rap(genre_in):\n",
    "    if(genre_in == \"rap\"):\n",
    "        return 1\n",
    "    else:\n",
    "        return 0\n",
    "    \n",
    "all_genres['is_rap'] = all_genres.genre.apply(is_rap)\n",
    "\n",
    "# Adding is_country flag\n",
    "def is_pop(genre_in):\n",
    "    if(genre_in == \"pop\"):\n",
    "        return 1\n",
    "    else:\n",
    "        return 0\n",
    "    \n",
    "all_genres['is_pop'] = all_genres.genre.apply(is_pop)"
   ]
  },
  {
   "cell_type": "markdown",
   "metadata": {},
   "source": [
    "### Test and Train Sets\n",
    "We create our training and test sets by splitting all_genres by genre, and making 10 of each genre train and 10 test. We aggregate by genre to make our full train and full test sets, each containing 50 records of various genres."
   ]
  },
  {
   "cell_type": "code",
   "execution_count": 101,
   "metadata": {
    "collapsed": false
   },
   "outputs": [
    {
     "name": "stdout",
     "output_type": "stream",
     "text": [
      "Training Records:\t405\n",
      "Test Records:\t\t405\n"
     ]
    }
   ],
   "source": [
    "# Subset all_genres to group by individual genres\n",
    "country_records  = all_genres[all_genres[\"genre\"] == \"country\"]\n",
    "rock_records     = all_genres[all_genres[\"genre\"] == \"rock\"]\n",
    "pop_records      = all_genres[all_genres[\"genre\"] == \"pop\"]\n",
    "edm_records      = all_genres[all_genres[\"genre\"] == \"edm\"]\n",
    "rap_records      = all_genres[all_genres[\"genre\"] == \"rap\"]\n",
    "\n",
    "# From the subsets above, create train and test sets from each\n",
    "country_train = country_records.head(len(country_records) / 2)\n",
    "country_test  = country_records.tail(len(country_records) / 2)\n",
    "rock_train    = rock_records.head(len(rock_records) / 2)\n",
    "rock_test     = rock_records.tail(len(rock_records) / 2)\n",
    "pop_train     = pop_records.head(len(pop_records) / 2)\n",
    "pop_test      = pop_records.tail(len(pop_records) / 2)\n",
    "edm_train     = edm_records.head(len(edm_records) / 2)\n",
    "edm_test      = edm_records.tail(len(edm_records) / 2)\n",
    "rap_train     = rap_records.head(len(rap_records) / 2)\n",
    "rap_test      = rap_records.tail(len(rap_records) / 2)\n",
    "\n",
    "# Create big training and big test set for analysis\n",
    "training_set = pd.concat([country_train,rock_train,pop_train,edm_train,rap_train])\n",
    "test_set     = pd.concat([country_test,rock_test,pop_test,edm_test,rap_test])\n",
    "\n",
    "training_set = training_set.fillna(0)\n",
    "test_set = test_set.fillna(0)\n",
    "\n",
    "print \"Training Records:\\t\" , len(training_set)\n",
    "print \"Test Records:\\t\\t\" , len(test_set)\n",
    "# training_set.head()"
   ]
  },
  {
   "cell_type": "markdown",
   "metadata": {
    "collapsed": false
   },
   "source": [
    "### Generating Random Forest - Viewer Statistics\n",
    "We start generating our random forests, and output a relative accuracy and a confusion matrix. In this first one, we simply factor in non-color variables (rating, likes, dislikes, length and viewcount), and run it across all records to predict an ordinal genre value."
   ]
  },
  {
   "cell_type": "code",
   "execution_count": 102,
   "metadata": {
    "collapsed": false
   },
   "outputs": [
    {
     "name": "stdout",
     "output_type": "stream",
     "text": [
      "0.432098765432\n"
     ]
    },
    {
     "data": {
      "text/html": [
       "<div>\n",
       "<table border=\"1\" class=\"dataframe\">\n",
       "  <thead>\n",
       "    <tr style=\"text-align: right;\">\n",
       "      <th>Predicted</th>\n",
       "      <th>0</th>\n",
       "      <th>1</th>\n",
       "      <th>2</th>\n",
       "      <th>3</th>\n",
       "      <th>4</th>\n",
       "    </tr>\n",
       "    <tr>\n",
       "      <th>Actual</th>\n",
       "      <th></th>\n",
       "      <th></th>\n",
       "      <th></th>\n",
       "      <th></th>\n",
       "      <th></th>\n",
       "    </tr>\n",
       "  </thead>\n",
       "  <tbody>\n",
       "    <tr>\n",
       "      <th>0</th>\n",
       "      <td>46</td>\n",
       "      <td>7</td>\n",
       "      <td>1</td>\n",
       "      <td>22</td>\n",
       "      <td>5</td>\n",
       "    </tr>\n",
       "    <tr>\n",
       "      <th>1</th>\n",
       "      <td>3</td>\n",
       "      <td>21</td>\n",
       "      <td>43</td>\n",
       "      <td>6</td>\n",
       "      <td>8</td>\n",
       "    </tr>\n",
       "    <tr>\n",
       "      <th>2</th>\n",
       "      <td>29</td>\n",
       "      <td>9</td>\n",
       "      <td>7</td>\n",
       "      <td>27</td>\n",
       "      <td>3</td>\n",
       "    </tr>\n",
       "    <tr>\n",
       "      <th>3</th>\n",
       "      <td>7</td>\n",
       "      <td>17</td>\n",
       "      <td>26</td>\n",
       "      <td>24</td>\n",
       "      <td>9</td>\n",
       "    </tr>\n",
       "    <tr>\n",
       "      <th>4</th>\n",
       "      <td>10</td>\n",
       "      <td>12</td>\n",
       "      <td>2</td>\n",
       "      <td>8</td>\n",
       "      <td>53</td>\n",
       "    </tr>\n",
       "  </tbody>\n",
       "</table>\n",
       "</div>"
      ],
      "text/plain": [
       "Predicted   0   1   2   3   4\n",
       "Actual                       \n",
       "0          46   7   1  22   5\n",
       "1           3  21  43   6   8\n",
       "2          29   9   7  27   3\n",
       "3           7  17  26  24   9\n",
       "4          10  12   2   8  53"
      ]
     },
     "execution_count": 102,
     "metadata": {},
     "output_type": "execute_result"
    }
   ],
   "source": [
    "# Predicting based solely on non-color features, using RF\n",
    "clf = RandomForestClassifier(n_estimators=11)\n",
    "meta_data_features = ['rating', 'likes','dislikes','length','viewcount']\n",
    "y, _ = pd.factorize(training_set['genre_ordinal'])\n",
    "clf = clf.fit(training_set[meta_data_features], y)\n",
    "\n",
    "z, _ = pd.factorize(test_set['genre_ordinal'])\n",
    "print clf.score(test_set[meta_data_features],z)\n",
    "pd.crosstab(test_set.genre_ordinal, clf.predict(test_set[meta_data_features]),rownames=[\"Actual\"], colnames=[\"Predicted\"])"
   ]
  },
  {
   "cell_type": "markdown",
   "metadata": {},
   "source": [
    "As shown above, this method yields relatively poor results. This is because there's no distinct clusters being created by our random forest, and simple viewer statistics tell us nothing about what kind of video we're watching. However, we see that country, rap and pop are initially somewhat distinct (diagonal is the highest value), and rock and edm are getting mistaken for one another. Let's see if we can't make something of this."
   ]
  },
  {
   "cell_type": "markdown",
   "metadata": {},
   "source": [
    "### Random Forest - Only Color Statistics\n",
    "Below, we do the same random forest as above, but going strictly off of average frame color for the video.\n",
    "\n",
    "We found the most commonly appearing color in each frame and called it the 'frame mode'. We then took all of the frame modes and found the 10 most common of them. Those became the 'color data' we use to analyze videos."
   ]
  },
  {
   "cell_type": "code",
   "execution_count": 6,
   "metadata": {
    "collapsed": true
   },
   "outputs": [],
   "source": [
    "def gen_new_headers(old_headers):\n",
    "    headers = ['colors_' + str(x+1) + '_' for x in range(10)]\n",
    "    h = []\n",
    "    for x in headers:\n",
    "        h.append(x + 'red')\n",
    "        h.append(x + 'blue')\n",
    "        h.append(x + 'green')\n",
    "    return old_headers + h + ['genre']"
   ]
  },
  {
   "cell_type": "code",
   "execution_count": 7,
   "metadata": {
    "collapsed": false
   },
   "outputs": [
    {
     "name": "stdout",
     "output_type": "stream",
     "text": [
      "0.222222222222\n"
     ]
    },
    {
     "data": {
      "text/html": [
       "<div>\n",
       "<table border=\"1\" class=\"dataframe\">\n",
       "  <thead>\n",
       "    <tr style=\"text-align: right;\">\n",
       "      <th>Predicted</th>\n",
       "      <th>0</th>\n",
       "      <th>1</th>\n",
       "      <th>2</th>\n",
       "      <th>3</th>\n",
       "      <th>4</th>\n",
       "    </tr>\n",
       "    <tr>\n",
       "      <th>Actual</th>\n",
       "      <th></th>\n",
       "      <th></th>\n",
       "      <th></th>\n",
       "      <th></th>\n",
       "      <th></th>\n",
       "    </tr>\n",
       "  </thead>\n",
       "  <tbody>\n",
       "    <tr>\n",
       "      <th>0</th>\n",
       "      <td>22</td>\n",
       "      <td>23</td>\n",
       "      <td>10</td>\n",
       "      <td>15</td>\n",
       "      <td>11</td>\n",
       "    </tr>\n",
       "    <tr>\n",
       "      <th>1</th>\n",
       "      <td>18</td>\n",
       "      <td>10</td>\n",
       "      <td>16</td>\n",
       "      <td>21</td>\n",
       "      <td>16</td>\n",
       "    </tr>\n",
       "    <tr>\n",
       "      <th>2</th>\n",
       "      <td>27</td>\n",
       "      <td>21</td>\n",
       "      <td>9</td>\n",
       "      <td>10</td>\n",
       "      <td>8</td>\n",
       "    </tr>\n",
       "    <tr>\n",
       "      <th>3</th>\n",
       "      <td>20</td>\n",
       "      <td>8</td>\n",
       "      <td>23</td>\n",
       "      <td>18</td>\n",
       "      <td>14</td>\n",
       "    </tr>\n",
       "    <tr>\n",
       "      <th>4</th>\n",
       "      <td>19</td>\n",
       "      <td>14</td>\n",
       "      <td>22</td>\n",
       "      <td>17</td>\n",
       "      <td>13</td>\n",
       "    </tr>\n",
       "  </tbody>\n",
       "</table>\n",
       "</div>"
      ],
      "text/plain": [
       "Predicted   0   1   2   3   4\n",
       "Actual                       \n",
       "0          22  23  10  15  11\n",
       "1          18  10  16  21  16\n",
       "2          27  21   9  10   8\n",
       "3          20   8  23  18  14\n",
       "4          19  14  22  17  13"
      ]
     },
     "execution_count": 7,
     "metadata": {},
     "output_type": "execute_result"
    }
   ],
   "source": [
    "clf = RandomForestClassifier(n_estimators=11)\n",
    "color_features = gen_new_headers([])[:-1]\n",
    "\n",
    "# Predicting based solely on colors\n",
    "y, _ = pd.factorize(training_set['genre_ordinal'])\n",
    "clf = clf.fit(training_set[color_features], y)\n",
    "\n",
    "z, _ = pd.factorize(test_set['genre_ordinal'])\n",
    "print clf.score(test_set[color_features],z)\n",
    "pd.crosstab(test_set.genre_ordinal, clf.predict(test_set[color_features]),rownames=[\"Actual\"], colnames=[\"Predicted\"])"
   ]
  },
  {
   "cell_type": "markdown",
   "metadata": {},
   "source": [
    "This actually yields worse results than just the viewer statistics, because the color of a video by itself does not determine the genre. If rappers only had red in their videos and rockers only had black this might be somewhat accurate, but that's just not the case. But, what if we pair these findings with our initial viewer statistics? "
   ]
  },
  {
   "cell_type": "markdown",
   "metadata": {},
   "source": [
    "### Random Forest - All Features"
   ]
  },
  {
   "cell_type": "code",
   "execution_count": 103,
   "metadata": {
    "collapsed": false
   },
   "outputs": [
    {
     "name": "stdout",
     "output_type": "stream",
     "text": [
      "0.402469135802\n"
     ]
    },
    {
     "data": {
      "text/html": [
       "<div>\n",
       "<table border=\"1\" class=\"dataframe\">\n",
       "  <thead>\n",
       "    <tr style=\"text-align: right;\">\n",
       "      <th>Predicted</th>\n",
       "      <th>0</th>\n",
       "      <th>1</th>\n",
       "      <th>2</th>\n",
       "      <th>3</th>\n",
       "      <th>4</th>\n",
       "    </tr>\n",
       "    <tr>\n",
       "      <th>Actual</th>\n",
       "      <th></th>\n",
       "      <th></th>\n",
       "      <th></th>\n",
       "      <th></th>\n",
       "      <th></th>\n",
       "    </tr>\n",
       "  </thead>\n",
       "  <tbody>\n",
       "    <tr>\n",
       "      <th>0</th>\n",
       "      <td>51</td>\n",
       "      <td>5</td>\n",
       "      <td>1</td>\n",
       "      <td>18</td>\n",
       "      <td>6</td>\n",
       "    </tr>\n",
       "    <tr>\n",
       "      <th>1</th>\n",
       "      <td>12</td>\n",
       "      <td>17</td>\n",
       "      <td>35</td>\n",
       "      <td>15</td>\n",
       "      <td>2</td>\n",
       "    </tr>\n",
       "    <tr>\n",
       "      <th>2</th>\n",
       "      <td>37</td>\n",
       "      <td>17</td>\n",
       "      <td>3</td>\n",
       "      <td>9</td>\n",
       "      <td>9</td>\n",
       "    </tr>\n",
       "    <tr>\n",
       "      <th>3</th>\n",
       "      <td>14</td>\n",
       "      <td>14</td>\n",
       "      <td>18</td>\n",
       "      <td>27</td>\n",
       "      <td>10</td>\n",
       "    </tr>\n",
       "    <tr>\n",
       "      <th>4</th>\n",
       "      <td>28</td>\n",
       "      <td>11</td>\n",
       "      <td>2</td>\n",
       "      <td>11</td>\n",
       "      <td>33</td>\n",
       "    </tr>\n",
       "  </tbody>\n",
       "</table>\n",
       "</div>"
      ],
      "text/plain": [
       "Predicted   0   1   2   3   4\n",
       "Actual                       \n",
       "0          51   5   1  18   6\n",
       "1          12  17  35  15   2\n",
       "2          37  17   3   9   9\n",
       "3          14  14  18  27  10\n",
       "4          28  11   2  11  33"
      ]
     },
     "execution_count": 103,
     "metadata": {},
     "output_type": "execute_result"
    }
   ],
   "source": [
    "clf = RandomForestClassifier(n_estimators=11)\n",
    "all_features = meta_data_features + color_features\n",
    "\n",
    "# Predicting based on colors and non-color features\n",
    "y, _ = pd.factorize(training_set['genre_ordinal'])\n",
    "clf = clf.fit(training_set[all_features], y)\n",
    "\n",
    "z, _ = pd.factorize(test_set['genre_ordinal'])\n",
    "print clf.score(test_set[all_features],z)\n",
    "pd.crosstab(test_set.genre_ordinal, clf.predict(test_set[all_features]),rownames=[\"Actual\"], colnames=[\"Predicted\"])"
   ]
  },
  {
   "cell_type": "markdown",
   "metadata": {},
   "source": [
    "### Singling Out Pop and Rap\n",
    "Scores are expectedly low. It seems as if we're trying to make the classifier do way too much work, and are giving it very mediocre data to go off of. Recall that we're actually trying to determine WHICH genre a video is by the above code, not whether or not a video is of ONE specific genre. This brings back the binary classifiers that we created above, let's put those to use to see if we can improve these scores."
   ]
  },
  {
   "cell_type": "markdown",
   "metadata": {
    "collapsed": true
   },
   "source": [
    "We try pop and rap first, since they seem to be the most distinct by what we've gathered above."
   ]
  },
  {
   "cell_type": "code",
   "execution_count": 104,
   "metadata": {
    "collapsed": false
   },
   "outputs": [
    {
     "name": "stdout",
     "output_type": "stream",
     "text": [
      "0.8\n"
     ]
    },
    {
     "data": {
      "text/html": [
       "<div>\n",
       "<table border=\"1\" class=\"dataframe\">\n",
       "  <thead>\n",
       "    <tr style=\"text-align: right;\">\n",
       "      <th>Predicted</th>\n",
       "      <th>0</th>\n",
       "      <th>1</th>\n",
       "    </tr>\n",
       "    <tr>\n",
       "      <th>Actual</th>\n",
       "      <th></th>\n",
       "      <th></th>\n",
       "    </tr>\n",
       "  </thead>\n",
       "  <tbody>\n",
       "    <tr>\n",
       "      <th>0</th>\n",
       "      <td>305</td>\n",
       "      <td>19</td>\n",
       "    </tr>\n",
       "    <tr>\n",
       "      <th>1</th>\n",
       "      <td>62</td>\n",
       "      <td>19</td>\n",
       "    </tr>\n",
       "  </tbody>\n",
       "</table>\n",
       "</div>"
      ],
      "text/plain": [
       "Predicted    0   1\n",
       "Actual            \n",
       "0          305  19\n",
       "1           62  19"
      ]
     },
     "execution_count": 104,
     "metadata": {},
     "output_type": "execute_result"
    }
   ],
   "source": [
    "clf = RandomForestClassifier(n_estimators=11)\n",
    "all_features = meta_data_features + color_features\n",
    "\n",
    "# Predicting based on colors and non-color features\n",
    "y, _ = pd.factorize(training_set['is_pop'])\n",
    "clf = clf.fit(training_set[all_features], y)\n",
    "\n",
    "z, _ = pd.factorize(test_set['is_pop'])\n",
    "print clf.score(test_set[all_features],z)\n",
    "pd.crosstab(test_set.is_pop, clf.predict(test_set[all_features]),rownames=[\"Actual\"], colnames=[\"Predicted\"])"
   ]
  },
  {
   "cell_type": "code",
   "execution_count": 105,
   "metadata": {
    "collapsed": false
   },
   "outputs": [
    {
     "name": "stdout",
     "output_type": "stream",
     "text": [
      "0.755555555556\n"
     ]
    },
    {
     "data": {
      "text/html": [
       "<div>\n",
       "<table border=\"1\" class=\"dataframe\">\n",
       "  <thead>\n",
       "    <tr style=\"text-align: right;\">\n",
       "      <th>Predicted</th>\n",
       "      <th>0</th>\n",
       "      <th>1</th>\n",
       "    </tr>\n",
       "    <tr>\n",
       "      <th>Actual</th>\n",
       "      <th></th>\n",
       "      <th></th>\n",
       "    </tr>\n",
       "  </thead>\n",
       "  <tbody>\n",
       "    <tr>\n",
       "      <th>0</th>\n",
       "      <td>281</td>\n",
       "      <td>39</td>\n",
       "    </tr>\n",
       "    <tr>\n",
       "      <th>1</th>\n",
       "      <td>60</td>\n",
       "      <td>25</td>\n",
       "    </tr>\n",
       "  </tbody>\n",
       "</table>\n",
       "</div>"
      ],
      "text/plain": [
       "Predicted    0   1\n",
       "Actual            \n",
       "0          281  39\n",
       "1           60  25"
      ]
     },
     "execution_count": 105,
     "metadata": {},
     "output_type": "execute_result"
    }
   ],
   "source": [
    "clf = RandomForestClassifier(n_estimators=11)\n",
    "all_features = meta_data_features + color_features\n",
    "\n",
    "# Predicting based on colors and non-color features\n",
    "y, _ = pd.factorize(training_set['is_rap'])\n",
    "clf = clf.fit(training_set[all_features], y)\n",
    "\n",
    "z, _ = pd.factorize(test_set['is_rap'])\n",
    "print clf.score(test_set[all_features],z)\n",
    "pd.crosstab(test_set.is_rap, clf.predict(test_set[all_features]),rownames=[\"Actual\"], colnames=[\"Predicted\"])"
   ]
  },
  {
   "cell_type": "markdown",
   "metadata": {},
   "source": [
    "What we're seeing above is a confusion matrix that, based on our training data, predicts whether or not a video in the test set is a pop video or not. In the \"predicted\" row, 0 means it predicts it's not a pop video, and that the 1 is. Likewise with the actual, 0 shows that the video actually wasn't a pop video, and the 1 shows that it was.\n",
    "\n",
    "The confusion matrix above is our first effort at utilizing these binary classifiers. Most of our videos aren't pop videos, and the model did a good job of picking out those that aren't pop. However, we could use some improvement in the realm of \"false negatives\", where the model classified a video as not pop when it actually was."
   ]
  },
  {
   "cell_type": "markdown",
   "metadata": {},
   "source": [
    "We do these tests 50 times for sake of average score."
   ]
  },
  {
   "cell_type": "markdown",
   "metadata": {},
   "source": [
    "Rather than hard-coding each time we wanted to run something for average, we wrote a function that does it for us. All we have to do is pass in the boolean classifier in quotes (\"is_rock\", etc.), and the number of iterations that we want. Results are displayed below."
   ]
  },
  {
   "cell_type": "code",
   "execution_count": 106,
   "metadata": {
    "collapsed": false
   },
   "outputs": [],
   "source": [
    "def multi_RF_averages(is_genre,num_iterations):\n",
    "    clf = RandomForestClassifier(n_estimators=11)\n",
    "    loop_indices = range(0,num_iterations)\n",
    "    cumsum = 0\n",
    "\n",
    "    for i in loop_indices:\n",
    "        y, _ = pd.factorize(training_set[is_genre])\n",
    "        clf = clf.fit(training_set[all_features], y)\n",
    "\n",
    "        z, _ = pd.factorize(test_set[is_genre])\n",
    "        cumsum = cumsum + clf.score(test_set[all_features],z)\n",
    "    \n",
    "    print \"Average Score for\",len(loop_indices),is_genre,\"iterations:\", cumsum/len(loop_indices)"
   ]
  },
  {
   "cell_type": "code",
   "execution_count": 107,
   "metadata": {
    "collapsed": false
   },
   "outputs": [
    {
     "name": "stdout",
     "output_type": "stream",
     "text": [
      "Average Score for 50 is_pop iterations: 0.812790123457\n",
      "Average Score for 50 is_rap iterations: 0.780641975309\n",
      "Average Score for 50 is_rock iterations: 0.814814814815\n",
      "Average Score for 50 is_edm iterations: 0.757283950617\n",
      "Average Score for 50 is_country iterations: 0.790271604938\n"
     ]
    }
   ],
   "source": [
    "multi_RF_averages(\"is_pop\",50)\n",
    "multi_RF_averages(\"is_rap\",50)\n",
    "multi_RF_averages(\"is_rock\",50)\n",
    "multi_RF_averages(\"is_edm\",50)\n",
    "multi_RF_averages(\"is_country\",50)"
   ]
  },
  {
   "cell_type": "markdown",
   "metadata": {},
   "source": [
    "We ran the above test with all genres, and as shown in above analysis, our country and edm typically have very low accuracy. We've seen above that edm and rock videos are getting mixed up with one another, so we assume that something is characteristic of these 2 genres that's not of everything else. We take out the edm values from our training and test datasets, hoping to improve accuracy."
   ]
  },
  {
   "cell_type": "code",
   "execution_count": 108,
   "metadata": {
    "collapsed": false
   },
   "outputs": [
    {
     "name": "stdout",
     "output_type": "stream",
     "text": [
      "Average Score for 50 is_pop iterations: 0.845093167702\n",
      "Average Score for 50 is_rap iterations: 0.745900621118\n",
      "Average Score for 50 is_rock iterations: 0.768260869565\n",
      "Average Score for 50 is_edm iterations: 1.0\n",
      "Average Score for 50 is_country iterations: 0.744720496894\n"
     ]
    }
   ],
   "source": [
    "# Removing EDM for better analysis - makes is_pop and is_rap much more accurate\n",
    "training_set = pd.concat([country_train,rock_train,pop_train,rap_train])\n",
    "test_set     = pd.concat([country_test,rock_test,pop_test,rap_test])\n",
    "\n",
    "multi_RF_averages(\"is_pop\",50)\n",
    "multi_RF_averages(\"is_rap\",50)\n",
    "multi_RF_averages(\"is_rock\",50)\n",
    "multi_RF_averages(\"is_edm\",50)\n",
    "multi_RF_averages(\"is_country\",50)"
   ]
  },
  {
   "cell_type": "markdown",
   "metadata": {
    "collapsed": true
   },
   "source": [
    "So, what does this tell us? Based on our training data, we have the best chance of accurately classifying something as pop or not pop (under these conditions). "
   ]
  },
  {
   "cell_type": "markdown",
   "metadata": {},
   "source": [
    "We want to find out which 2 are the most distinct, so we can make build our model based on that classification."
   ]
  },
  {
   "cell_type": "code",
   "execution_count": 109,
   "metadata": {
    "collapsed": false
   },
   "outputs": [
    {
     "name": "stdout",
     "output_type": "stream",
     "text": [
      "Average Score for 50 is_rock iterations: 0.813333333333\n",
      "Average Score for 50 is_rap iterations: 0.721882352941\n",
      "Average Score for 50 is_country iterations: 0.21975308642\n",
      "Average Score for 50 is_pop iterations: 0.716296296296\n",
      "Average Score for 50 is_edm iterations: 0.921686746988\n"
     ]
    }
   ],
   "source": [
    "training_set = pd.concat([country_train,rock_train,edm_train,rap_train,pop_train])\n",
    "\n",
    "test_set     = pd.concat([rock_test])\n",
    "multi_RF_averages(\"is_rock\",50)\n",
    "\n",
    "test_set     = pd.concat([rap_test])\n",
    "multi_RF_averages(\"is_rap\",50)\n",
    "\n",
    "test_set     = pd.concat([country_test])\n",
    "multi_RF_averages(\"is_country\",50)\n",
    "\n",
    "test_set     = pd.concat([pop_test])\n",
    "multi_RF_averages(\"is_pop\",50)\n",
    "\n",
    "test_set     = pd.concat([edm_test])\n",
    "multi_RF_averages(\"is_edm\",50)"
   ]
  },
  {
   "cell_type": "markdown",
   "metadata": {},
   "source": [
    "Rock and EDM have suprisingly distinct classifiers. We should dive into the videos and see what this means."
   ]
  },
  {
   "cell_type": "code",
   "execution_count": 17,
   "metadata": {
    "collapsed": false
   },
   "outputs": [
    {
     "name": "stdout",
     "output_type": "stream",
     "text": [
      "Average Score for 50 is_edm iterations: 0.520632911392\n",
      "Average Score for 50 is_rock iterations: 0.589367088608\n"
     ]
    }
   ],
   "source": [
    "test_set     = pd.concat([edm_test,rock_test])\n",
    "multi_RF_averages(\"is_edm\",50)\n",
    "multi_RF_averages(\"is_rock\",50)"
   ]
  },
  {
   "cell_type": "markdown",
   "metadata": {},
   "source": [
    "### Selecting Most Valuable Features per Genre - Rock"
   ]
  },
  {
   "cell_type": "code",
   "execution_count": 112,
   "metadata": {
    "collapsed": false
   },
   "outputs": [
    {
     "name": "stdout",
     "output_type": "stream",
     "text": [
      "[ 0.03360183  0.02829108  0.02982243  0.0490384   0.02047459  0.01937606\n",
      "  0.02202715  0.04239438  0.03467993  0.02199705  0.03537056  0.02456637\n",
      "  0.02885381  0.02835152  0.02870449  0.01953121  0.02602534  0.02756057\n",
      "  0.02962556  0.02307043  0.0219043   0.0273488   0.03731047  0.03296353\n",
      "  0.02753547  0.02877794  0.02571059  0.02788969  0.03097814  0.01596579\n",
      "  0.03276818  0.03190175  0.0351186   0.03148952  0.01897448]\n"
     ]
    }
   ],
   "source": [
    "model = ExtraTreesClassifier()\n",
    "\n",
    "training_set = pd.concat([country_train,pop_train,rap_train,rock_train,edm_train])\n",
    "y, _ = pd.factorize(training_set['is_rock'])\n",
    "model.fit(training_set[all_features], y)\n",
    "\n",
    "# display the relative importance of each attribute\n",
    "print model.feature_importances_"
   ]
  },
  {
   "cell_type": "code",
   "execution_count": 236,
   "metadata": {
    "collapsed": false
   },
   "outputs": [
    {
     "data": {
      "text/html": [
       "<div>\n",
       "<table border=\"1\" class=\"dataframe\">\n",
       "  <thead>\n",
       "    <tr style=\"text-align: right;\">\n",
       "      <th></th>\n",
       "      <th>index</th>\n",
       "      <th>rap</th>\n",
       "      <th>rock</th>\n",
       "      <th>country</th>\n",
       "      <th>edm</th>\n",
       "      <th>pop</th>\n",
       "    </tr>\n",
       "  </thead>\n",
       "  <tbody>\n",
       "    <tr>\n",
       "      <th>0</th>\n",
       "      <td>rating</td>\n",
       "      <td>0.052303</td>\n",
       "      <td>0.025419</td>\n",
       "      <td>0.042144</td>\n",
       "      <td>0.048553</td>\n",
       "      <td>0.024148</td>\n",
       "    </tr>\n",
       "    <tr>\n",
       "      <th>1</th>\n",
       "      <td>likes</td>\n",
       "      <td>0.042820</td>\n",
       "      <td>0.038282</td>\n",
       "      <td>0.048668</td>\n",
       "      <td>0.034959</td>\n",
       "      <td>0.156237</td>\n",
       "    </tr>\n",
       "    <tr>\n",
       "      <th>2</th>\n",
       "      <td>dislikes</td>\n",
       "      <td>0.028491</td>\n",
       "      <td>0.034001</td>\n",
       "      <td>0.038813</td>\n",
       "      <td>0.033244</td>\n",
       "      <td>0.115148</td>\n",
       "    </tr>\n",
       "    <tr>\n",
       "      <th>3</th>\n",
       "      <td>length</td>\n",
       "      <td>0.041854</td>\n",
       "      <td>0.048102</td>\n",
       "      <td>0.033041</td>\n",
       "      <td>0.024917</td>\n",
       "      <td>0.013564</td>\n",
       "    </tr>\n",
       "    <tr>\n",
       "      <th>4</th>\n",
       "      <td>viewcount</td>\n",
       "      <td>0.064045</td>\n",
       "      <td>0.030155</td>\n",
       "      <td>0.050966</td>\n",
       "      <td>0.028763</td>\n",
       "      <td>0.162365</td>\n",
       "    </tr>\n",
       "    <tr>\n",
       "      <th>5</th>\n",
       "      <td>colors_1_red</td>\n",
       "      <td>0.024200</td>\n",
       "      <td>0.031048</td>\n",
       "      <td>0.022437</td>\n",
       "      <td>0.029580</td>\n",
       "      <td>0.018663</td>\n",
       "    </tr>\n",
       "    <tr>\n",
       "      <th>6</th>\n",
       "      <td>colors_1_blue</td>\n",
       "      <td>0.016276</td>\n",
       "      <td>0.025953</td>\n",
       "      <td>0.026887</td>\n",
       "      <td>0.031967</td>\n",
       "      <td>0.011435</td>\n",
       "    </tr>\n",
       "    <tr>\n",
       "      <th>7</th>\n",
       "      <td>colors_1_green</td>\n",
       "      <td>0.028815</td>\n",
       "      <td>0.034242</td>\n",
       "      <td>0.025065</td>\n",
       "      <td>0.027654</td>\n",
       "      <td>0.020421</td>\n",
       "    </tr>\n",
       "    <tr>\n",
       "      <th>8</th>\n",
       "      <td>colors_2_red</td>\n",
       "      <td>0.028509</td>\n",
       "      <td>0.017323</td>\n",
       "      <td>0.024548</td>\n",
       "      <td>0.025999</td>\n",
       "      <td>0.021517</td>\n",
       "    </tr>\n",
       "    <tr>\n",
       "      <th>9</th>\n",
       "      <td>colors_2_blue</td>\n",
       "      <td>0.028602</td>\n",
       "      <td>0.018365</td>\n",
       "      <td>0.022685</td>\n",
       "      <td>0.024641</td>\n",
       "      <td>0.012562</td>\n",
       "    </tr>\n",
       "    <tr>\n",
       "      <th>10</th>\n",
       "      <td>colors_2_green</td>\n",
       "      <td>0.026179</td>\n",
       "      <td>0.027821</td>\n",
       "      <td>0.020550</td>\n",
       "      <td>0.019852</td>\n",
       "      <td>0.020706</td>\n",
       "    </tr>\n",
       "    <tr>\n",
       "      <th>11</th>\n",
       "      <td>colors_3_red</td>\n",
       "      <td>0.019483</td>\n",
       "      <td>0.024401</td>\n",
       "      <td>0.019901</td>\n",
       "      <td>0.028292</td>\n",
       "      <td>0.015790</td>\n",
       "    </tr>\n",
       "    <tr>\n",
       "      <th>12</th>\n",
       "      <td>colors_3_blue</td>\n",
       "      <td>0.034203</td>\n",
       "      <td>0.018393</td>\n",
       "      <td>0.024931</td>\n",
       "      <td>0.019228</td>\n",
       "      <td>0.016696</td>\n",
       "    </tr>\n",
       "    <tr>\n",
       "      <th>13</th>\n",
       "      <td>colors_3_green</td>\n",
       "      <td>0.022031</td>\n",
       "      <td>0.023456</td>\n",
       "      <td>0.030117</td>\n",
       "      <td>0.032734</td>\n",
       "      <td>0.018899</td>\n",
       "    </tr>\n",
       "    <tr>\n",
       "      <th>14</th>\n",
       "      <td>colors_4_red</td>\n",
       "      <td>0.026082</td>\n",
       "      <td>0.024362</td>\n",
       "      <td>0.024860</td>\n",
       "      <td>0.027753</td>\n",
       "      <td>0.013136</td>\n",
       "    </tr>\n",
       "    <tr>\n",
       "      <th>15</th>\n",
       "      <td>colors_4_blue</td>\n",
       "      <td>0.031942</td>\n",
       "      <td>0.031026</td>\n",
       "      <td>0.017678</td>\n",
       "      <td>0.020405</td>\n",
       "      <td>0.014593</td>\n",
       "    </tr>\n",
       "    <tr>\n",
       "      <th>16</th>\n",
       "      <td>colors_4_green</td>\n",
       "      <td>0.024758</td>\n",
       "      <td>0.025814</td>\n",
       "      <td>0.028331</td>\n",
       "      <td>0.013271</td>\n",
       "      <td>0.015094</td>\n",
       "    </tr>\n",
       "    <tr>\n",
       "      <th>17</th>\n",
       "      <td>colors_5_red</td>\n",
       "      <td>0.020644</td>\n",
       "      <td>0.028188</td>\n",
       "      <td>0.028794</td>\n",
       "      <td>0.026814</td>\n",
       "      <td>0.013798</td>\n",
       "    </tr>\n",
       "    <tr>\n",
       "      <th>18</th>\n",
       "      <td>colors_5_blue</td>\n",
       "      <td>0.033770</td>\n",
       "      <td>0.029873</td>\n",
       "      <td>0.025286</td>\n",
       "      <td>0.029084</td>\n",
       "      <td>0.019777</td>\n",
       "    </tr>\n",
       "    <tr>\n",
       "      <th>19</th>\n",
       "      <td>colors_5_green</td>\n",
       "      <td>0.027748</td>\n",
       "      <td>0.025533</td>\n",
       "      <td>0.019054</td>\n",
       "      <td>0.030986</td>\n",
       "      <td>0.013577</td>\n",
       "    </tr>\n",
       "    <tr>\n",
       "      <th>20</th>\n",
       "      <td>colors_6_red</td>\n",
       "      <td>0.019157</td>\n",
       "      <td>0.036399</td>\n",
       "      <td>0.028521</td>\n",
       "      <td>0.035287</td>\n",
       "      <td>0.018833</td>\n",
       "    </tr>\n",
       "    <tr>\n",
       "      <th>21</th>\n",
       "      <td>colors_6_blue</td>\n",
       "      <td>0.024886</td>\n",
       "      <td>0.030133</td>\n",
       "      <td>0.025711</td>\n",
       "      <td>0.025986</td>\n",
       "      <td>0.015977</td>\n",
       "    </tr>\n",
       "    <tr>\n",
       "      <th>22</th>\n",
       "      <td>colors_6_green</td>\n",
       "      <td>0.023881</td>\n",
       "      <td>0.028806</td>\n",
       "      <td>0.033674</td>\n",
       "      <td>0.025702</td>\n",
       "      <td>0.020734</td>\n",
       "    </tr>\n",
       "    <tr>\n",
       "      <th>23</th>\n",
       "      <td>colors_7_red</td>\n",
       "      <td>0.029242</td>\n",
       "      <td>0.037827</td>\n",
       "      <td>0.022127</td>\n",
       "      <td>0.033324</td>\n",
       "      <td>0.023167</td>\n",
       "    </tr>\n",
       "    <tr>\n",
       "      <th>24</th>\n",
       "      <td>colors_7_blue</td>\n",
       "      <td>0.025118</td>\n",
       "      <td>0.026982</td>\n",
       "      <td>0.033753</td>\n",
       "      <td>0.031309</td>\n",
       "      <td>0.015038</td>\n",
       "    </tr>\n",
       "    <tr>\n",
       "      <th>25</th>\n",
       "      <td>colors_7_green</td>\n",
       "      <td>0.026327</td>\n",
       "      <td>0.019066</td>\n",
       "      <td>0.032540</td>\n",
       "      <td>0.017787</td>\n",
       "      <td>0.015902</td>\n",
       "    </tr>\n",
       "    <tr>\n",
       "      <th>26</th>\n",
       "      <td>colors_8_red</td>\n",
       "      <td>0.031125</td>\n",
       "      <td>0.028794</td>\n",
       "      <td>0.023675</td>\n",
       "      <td>0.030440</td>\n",
       "      <td>0.024855</td>\n",
       "    </tr>\n",
       "    <tr>\n",
       "      <th>27</th>\n",
       "      <td>colors_8_blue</td>\n",
       "      <td>0.022430</td>\n",
       "      <td>0.020406</td>\n",
       "      <td>0.027729</td>\n",
       "      <td>0.028244</td>\n",
       "      <td>0.027362</td>\n",
       "    </tr>\n",
       "    <tr>\n",
       "      <th>28</th>\n",
       "      <td>colors_8_green</td>\n",
       "      <td>0.027432</td>\n",
       "      <td>0.040005</td>\n",
       "      <td>0.029585</td>\n",
       "      <td>0.030386</td>\n",
       "      <td>0.012235</td>\n",
       "    </tr>\n",
       "    <tr>\n",
       "      <th>29</th>\n",
       "      <td>colors_9_red</td>\n",
       "      <td>0.019190</td>\n",
       "      <td>0.027393</td>\n",
       "      <td>0.029164</td>\n",
       "      <td>0.033698</td>\n",
       "      <td>0.017394</td>\n",
       "    </tr>\n",
       "    <tr>\n",
       "      <th>30</th>\n",
       "      <td>colors_9_blue</td>\n",
       "      <td>0.017946</td>\n",
       "      <td>0.032242</td>\n",
       "      <td>0.024393</td>\n",
       "      <td>0.028469</td>\n",
       "      <td>0.013275</td>\n",
       "    </tr>\n",
       "    <tr>\n",
       "      <th>31</th>\n",
       "      <td>colors_9_green</td>\n",
       "      <td>0.033782</td>\n",
       "      <td>0.021670</td>\n",
       "      <td>0.025212</td>\n",
       "      <td>0.026007</td>\n",
       "      <td>0.022671</td>\n",
       "    </tr>\n",
       "    <tr>\n",
       "      <th>32</th>\n",
       "      <td>colors_10_red</td>\n",
       "      <td>0.025560</td>\n",
       "      <td>0.027604</td>\n",
       "      <td>0.027500</td>\n",
       "      <td>0.023807</td>\n",
       "      <td>0.019540</td>\n",
       "    </tr>\n",
       "    <tr>\n",
       "      <th>33</th>\n",
       "      <td>colors_10_blue</td>\n",
       "      <td>0.030534</td>\n",
       "      <td>0.032019</td>\n",
       "      <td>0.022182</td>\n",
       "      <td>0.033118</td>\n",
       "      <td>0.020529</td>\n",
       "    </tr>\n",
       "    <tr>\n",
       "      <th>34</th>\n",
       "      <td>colors_10_green</td>\n",
       "      <td>0.020638</td>\n",
       "      <td>0.028898</td>\n",
       "      <td>0.039479</td>\n",
       "      <td>0.037740</td>\n",
       "      <td>0.014358</td>\n",
       "    </tr>\n",
       "  </tbody>\n",
       "</table>\n",
       "</div>"
      ],
      "text/plain": [
       "              index       rap      rock   country       edm       pop\n",
       "0            rating  0.052303  0.025419  0.042144  0.048553  0.024148\n",
       "1             likes  0.042820  0.038282  0.048668  0.034959  0.156237\n",
       "2          dislikes  0.028491  0.034001  0.038813  0.033244  0.115148\n",
       "3            length  0.041854  0.048102  0.033041  0.024917  0.013564\n",
       "4         viewcount  0.064045  0.030155  0.050966  0.028763  0.162365\n",
       "5      colors_1_red  0.024200  0.031048  0.022437  0.029580  0.018663\n",
       "6     colors_1_blue  0.016276  0.025953  0.026887  0.031967  0.011435\n",
       "7    colors_1_green  0.028815  0.034242  0.025065  0.027654  0.020421\n",
       "8      colors_2_red  0.028509  0.017323  0.024548  0.025999  0.021517\n",
       "9     colors_2_blue  0.028602  0.018365  0.022685  0.024641  0.012562\n",
       "10   colors_2_green  0.026179  0.027821  0.020550  0.019852  0.020706\n",
       "11     colors_3_red  0.019483  0.024401  0.019901  0.028292  0.015790\n",
       "12    colors_3_blue  0.034203  0.018393  0.024931  0.019228  0.016696\n",
       "13   colors_3_green  0.022031  0.023456  0.030117  0.032734  0.018899\n",
       "14     colors_4_red  0.026082  0.024362  0.024860  0.027753  0.013136\n",
       "15    colors_4_blue  0.031942  0.031026  0.017678  0.020405  0.014593\n",
       "16   colors_4_green  0.024758  0.025814  0.028331  0.013271  0.015094\n",
       "17     colors_5_red  0.020644  0.028188  0.028794  0.026814  0.013798\n",
       "18    colors_5_blue  0.033770  0.029873  0.025286  0.029084  0.019777\n",
       "19   colors_5_green  0.027748  0.025533  0.019054  0.030986  0.013577\n",
       "20     colors_6_red  0.019157  0.036399  0.028521  0.035287  0.018833\n",
       "21    colors_6_blue  0.024886  0.030133  0.025711  0.025986  0.015977\n",
       "22   colors_6_green  0.023881  0.028806  0.033674  0.025702  0.020734\n",
       "23     colors_7_red  0.029242  0.037827  0.022127  0.033324  0.023167\n",
       "24    colors_7_blue  0.025118  0.026982  0.033753  0.031309  0.015038\n",
       "25   colors_7_green  0.026327  0.019066  0.032540  0.017787  0.015902\n",
       "26     colors_8_red  0.031125  0.028794  0.023675  0.030440  0.024855\n",
       "27    colors_8_blue  0.022430  0.020406  0.027729  0.028244  0.027362\n",
       "28   colors_8_green  0.027432  0.040005  0.029585  0.030386  0.012235\n",
       "29     colors_9_red  0.019190  0.027393  0.029164  0.033698  0.017394\n",
       "30    colors_9_blue  0.017946  0.032242  0.024393  0.028469  0.013275\n",
       "31   colors_9_green  0.033782  0.021670  0.025212  0.026007  0.022671\n",
       "32    colors_10_red  0.025560  0.027604  0.027500  0.023807  0.019540\n",
       "33   colors_10_blue  0.030534  0.032019  0.022182  0.033118  0.020529\n",
       "34  colors_10_green  0.020638  0.028898  0.039479  0.037740  0.014358"
      ]
     },
     "execution_count": 236,
     "metadata": {},
     "output_type": "execute_result"
    }
   ],
   "source": [
    "df = pd.DataFrame()\n",
    "df['index'] = all_features\n",
    "\n",
    "y, _ = pd.factorize(training_set['is_rap'])\n",
    "model.fit(training_set[all_features], y)\n",
    "        \n",
    "df['rap'] = model.feature_importances_\n",
    "\n",
    "y, _ = pd.factorize(training_set['is_rock'])\n",
    "model.fit(training_set[all_features], y)\n",
    "\n",
    "df['rock'] = model.feature_importances_\n",
    "\n",
    "y, _ = pd.factorize(training_set['is_country'])\n",
    "model.fit(training_set[all_features], y)\n",
    "\n",
    "df['country'] = model.feature_importances_\n",
    "\n",
    "y, _ = pd.factorize(training_set['is_edm'])\n",
    "model.fit(training_set[all_features], y)\n",
    "\n",
    "df['edm'] = model.feature_importances_\n",
    "\n",
    "y, _ = pd.factorize(training_set['is_pop'])\n",
    "model.fit(training_set[all_features], y)\n",
    "\n",
    "df['pop'] = model.feature_importances_\n",
    "\n",
    "df"
   ]
  },
  {
   "cell_type": "markdown",
   "metadata": {},
   "source": [
    "### Future Improvements \n",
    "- Run the above graph a number of times, take the average for each cell\n",
    "- Based on the heaviest weighted parameters for each, run the random forest algorithm only taking these given parameters into consideration\n",
    "- Generate a model that classifies videos dynamically\n",
    "- Make more values ordinal - maybe to NLP or LDA to factor in descriptions, titles and lyrics"
   ]
  },
  {
   "cell_type": "code",
   "execution_count": null,
   "metadata": {
    "collapsed": true
   },
   "outputs": [],
   "source": []
  }
 ],
 "metadata": {
  "anaconda-cloud": {},
  "kernelspec": {
   "display_name": "Python [conda env:cs489]",
   "language": "python",
   "name": "conda-env-cs489-py"
  },
  "language_info": {
   "codemirror_mode": {
    "name": "ipython",
    "version": 2
   },
   "file_extension": ".py",
   "mimetype": "text/x-python",
   "name": "python",
   "nbconvert_exporter": "python",
   "pygments_lexer": "ipython2",
   "version": "2.7.12"
  }
 },
 "nbformat": 4,
 "nbformat_minor": 0
}
